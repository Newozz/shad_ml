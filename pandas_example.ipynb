{
 "metadata": {
  "name": "pandas_example"
 },
 "nbformat": 3,
 "nbformat_minor": 0,
 "worksheets": [
  {
   "cells": [
    {
     "cell_type": "heading",
     "level": 1,
     "metadata": {},
     "source": [
      "\u041f\u0440\u043e\u0441\u0442\u043e\u0439 \u043f\u0440\u0438\u043c\u0435\u0440 \u0441\u0447\u0438\u0442\u044b\u0432\u0430\u043d\u0438\u044f \u0434\u0430\u043d\u043d\u044b\u0445 \u0432 \u043b\u0430\u0431\u043e\u0440\u0430\u0442\u043e\u0440\u043d\u043e\u0439 2"
     ]
    },
    {
     "cell_type": "code",
     "collapsed": false,
     "input": [
      "import numpy as np\n",
      "import pandas as pd"
     ],
     "language": "python",
     "metadata": {},
     "outputs": [],
     "prompt_number": 1
    },
    {
     "cell_type": "raw",
     "metadata": {},
     "source": [
      "\u0421\u0447\u0438\u0442\u0430\u0435\u043c \u0444\u0430\u0439\u043b \u0438 \u0437\u0430\u043c\u0435\u043d\u0438\u043c \u0437\u043d\u0430\u043a\u0438 \u0432\u043e\u043f\u0440\u043e\u0441\u044b \u043d\u0430 NaN."
     ]
    },
    {
     "cell_type": "code",
     "collapsed": false,
     "input": [
      "df = pd.read_csv('automobile.data.txt', header=None)\n",
      "df = df.replace('?', np.nan)\n",
      "print df"
     ],
     "language": "python",
     "metadata": {},
     "outputs": [
      {
       "output_type": "stream",
       "stream": "stdout",
       "text": [
        "<class 'pandas.core.frame.DataFrame'>\n",
        "Int64Index: 205 entries, 0 to 204\n",
        "Data columns (total 26 columns):\n",
        "0     205  non-null values\n",
        "1     164  non-null values\n",
        "2     205  non-null values\n",
        "3     205  non-null values\n",
        "4     205  non-null values\n",
        "5     203  non-null values\n",
        "6     205  non-null values\n",
        "7     205  non-null values\n",
        "8     205  non-null values\n",
        "9     205  non-null values\n",
        "10    205  non-null values\n",
        "11    205  non-null values\n",
        "12    205  non-null values\n",
        "13    205  non-null values\n",
        "14    205  non-null values\n",
        "15    205  non-null values\n",
        "16    205  non-null values\n",
        "17    205  non-null values\n",
        "18    201  non-null values\n",
        "19    201  non-null values\n",
        "20    205  non-null values\n",
        "21    203  non-null values\n",
        "22    203  non-null values\n",
        "23    205  non-null values\n",
        "24    205  non-null values\n",
        "25    201  non-null values\n",
        "dtypes: float64(5), int64(5), object(16)\n"
       ]
      }
     ],
     "prompt_number": 2
    },
    {
     "cell_type": "raw",
     "metadata": {},
     "source": [
      "\u0412\u0438\u0434\u043d\u043e, \u0447\u0442\u043e \u0441\u0442\u043e\u043b\u0431\u0435\u0446 1 \u0441\u043e\u0434\u0435\u0440\u0436\u0438\u0442 \u043c\u043d\u043e\u0433\u043e \u043f\u0440\u043e\u043f\u0443\u0449\u0435\u043d\u043d\u044b\u0445 \u0437\u043d\u0430\u0447\u0435\u043d\u0438\u0439. \u0414\u0430\u0432\u0430\u0439\u0442\u0435 \u0443\u0434\u0430\u043b\u0438\u043c \u0435\u0433\u043e \u0441\u043e\u0432\u0441\u0435\u043c. \u0418 \u0432 \u043f\u043e\u043b\u0443\u0447\u0438\u0432\u0448\u0435\u043c\u0441\u044f \u0444\u0440\u0435\u0439\u043c\u0435 \u0443\u0434\u0430\u043b\u0438\u043c \u0441\u0442\u0440\u043e\u043a\u0438, \u0432 \u043a\u043e\u0442\u043e\u0440\u044b\u0445 \u0435\u0449\u0435 \u043e\u0441\u0442\u0430\u043b\u0438\u0441\u044c \u043f\u0440\u043e\u043f\u0443\u0449\u0435\u043d\u043d\u044b\u0435 \u0437\u043d\u0430\u0447\u0435\u043d\u0438\u044f."
     ]
    },
    {
     "cell_type": "code",
     "collapsed": false,
     "input": [
      "df = df.drop(1, axis=1) # drop col 1\n",
      "df = df.dropna() # drop every row with NaN\n",
      "print df"
     ],
     "language": "python",
     "metadata": {},
     "outputs": [
      {
       "output_type": "stream",
       "stream": "stdout",
       "text": [
        "<class 'pandas.core.frame.DataFrame'>\n",
        "Int64Index: 193 entries, 0 to 204\n",
        "Data columns (total 25 columns):\n",
        "0     193  non-null values\n",
        "2     193  non-null values\n",
        "3     193  non-null values\n",
        "4     193  non-null values\n",
        "5     193  non-null values\n",
        "6     193  non-null values\n",
        "7     193  non-null values\n",
        "8     193  non-null values\n",
        "9     193  non-null values\n",
        "10    193  non-null values\n",
        "11    193  non-null values\n",
        "12    193  non-null values\n",
        "13    193  non-null values\n",
        "14    193  non-null values\n",
        "15    193  non-null values\n",
        "16    193  non-null values\n",
        "17    193  non-null values\n",
        "18    193  non-null values\n",
        "19    193  non-null values\n",
        "20    193  non-null values\n",
        "21    193  non-null values\n",
        "22    193  non-null values\n",
        "23    193  non-null values\n",
        "24    193  non-null values\n",
        "25    193  non-null values\n",
        "dtypes: float64(5), int64(5), object(15)\n"
       ]
      }
     ],
     "prompt_number": 3
    },
    {
     "cell_type": "raw",
     "metadata": {},
     "source": [
      "\u0414\u0430\u0432\u0430\u0439\u0442\u0435 \u0442\u0435\u043f\u0435\u0440\u044c \u043f\u0440\u043e\u043d\u0443\u043c\u0435\u0440\u0443\u0435\u043c \u043a\u0430\u0442\u0435\u0433\u043e\u0440\u0438\u0430\u043b\u044c\u043d\u044b\u0435 \u043f\u0440\u0438\u0437\u043d\u0430\u043a\u0438. \u0421\u043d\u0430\u0447\u0430\u043b\u0430 \u0432\u044b\u0432\u0435\u0434\u0435\u043c \u043d\u0443\u043b\u0435\u0432\u0443\u044e \u0441\u0442\u0440\u043e\u0447\u043a\u0443 \u0444\u0440\u0435\u0439\u043c\u0430 \u0438 \u043f\u043e\u0441\u043c\u043e\u0442\u0440\u0438\u043c \u0433\u043b\u0430\u0437\u0430\u043c\u0438, \u043a\u0430\u043a\u0438\u0435 \u043f\u0440\u0438\u0437\u043d\u0430\u043a\u0438, \u0441\u043e\u0431\u0441\u0442\u0432\u0435\u043d\u043d\u043e, \u043d\u0430\u0434\u043e \u043f\u0440\u043e\u043d\u0443\u043c\u0435\u0440\u043e\u0432\u044b\u0432\u0430\u0442\u044c."
     ]
    },
    {
     "cell_type": "code",
     "collapsed": false,
     "input": [
      "print df[0:1]"
     ],
     "language": "python",
     "metadata": {},
     "outputs": [
      {
       "output_type": "stream",
       "stream": "stdout",
       "text": [
        "   0            2    3    4    5            6    7      8     9      10    11  \\\n",
        "0   3  alfa-romero  gas  std  two  convertible  rwd  front  88.6  168.8  64.1   \n",
        "\n",
        "     12    13    14    15   16    17    18    19  20   21    22  23  24     25  \n",
        "0  48.8  2548  dohc  four  130  mpfi  3.47  2.68   9  111  5000  21  27  13495  \n"
       ]
      }
     ],
     "prompt_number": 4
    },
    {
     "cell_type": "raw",
     "metadata": {},
     "source": [
      "\u0422\u0435 \u043f\u0440\u0438\u0437\u043d\u0430\u043a\u0438, \u0443 \u043a\u043e\u0442\u043e\u0440\u044b\u0435 \u0437\u043d\u0430\u0447\u0435\u043d\u0438\u044f - \u043d\u0435 \u0447\u0438\u0441\u043b\u0430, \u0441\u0442\u043e\u0438\u0442 \u043f\u0440\u043e\u043d\u0443\u043c\u0435\u0440\u043e\u0432\u0430\u0442\u044c. \u0421\u0434\u0435\u043b\u0430\u0435\u043c \u044d\u0442\u043e \u0438 \u043f\u0440\u0435\u043e\u0431\u0440\u0430\u0437\u0443\u0435\u043c \u0444\u0440\u0435\u0439\u043c \u043a \u043c\u0430\u0442\u0440\u0438\u0446\u0435 numpy. \u0413\u043e\u0442\u043e\u0432\u043e :)"
     ]
    },
    {
     "cell_type": "code",
     "collapsed": false,
     "input": [
      "for col in [2, 3, 4, 5, 6, 7, 8, 14, 15, 17]:\n",
      "    df[col] = pd.Categorical.from_array(df[col]).labels\n",
      "data_x = df.values.astype(np.float32)\n",
      "print data_x.shape\n",
      "print data_x"
     ],
     "language": "python",
     "metadata": {},
     "outputs": [
      {
       "output_type": "stream",
       "stream": "stdout",
       "text": [
        "(193, 25)\n",
        "[[  3.00000000e+00   0.00000000e+00   1.00000000e+00 ...,   2.10000000e+01\n",
        "    2.70000000e+01   1.34950000e+04]\n",
        " [  3.00000000e+00   0.00000000e+00   1.00000000e+00 ...,   2.10000000e+01\n",
        "    2.70000000e+01   1.65000000e+04]\n",
        " [  1.00000000e+00   0.00000000e+00   1.00000000e+00 ...,   1.90000000e+01\n",
        "    2.60000000e+01   1.65000000e+04]\n",
        " ..., \n",
        " [ -1.00000000e+00   2.00000000e+01   1.00000000e+00 ...,   1.80000000e+01\n",
        "    2.30000000e+01   2.14850000e+04]\n",
        " [ -1.00000000e+00   2.00000000e+01   0.00000000e+00 ...,   2.60000000e+01\n",
        "    2.70000000e+01   2.24700000e+04]\n",
        " [ -1.00000000e+00   2.00000000e+01   1.00000000e+00 ...,   1.90000000e+01\n",
        "    2.50000000e+01   2.26250000e+04]]\n"
       ]
      }
     ],
     "prompt_number": 5
    }
   ],
   "metadata": {}
  }
 ]
}