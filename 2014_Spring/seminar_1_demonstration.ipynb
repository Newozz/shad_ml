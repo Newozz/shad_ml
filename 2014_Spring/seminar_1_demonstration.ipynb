{
 "metadata": {
  "name": ""
 },
 "nbformat": 3,
 "nbformat_minor": 0,
 "worksheets": [
  {
   "cells": [
    {
     "cell_type": "heading",
     "level": 1,
     "metadata": {},
     "source": [
      "\u041f\u043e\u0431\u0430\u043b\u0443\u0435\u043c\u0441\u044f \u0441 \u0447\u0438\u0441\u0442\u044b\u043c Python"
     ]
    },
    {
     "cell_type": "markdown",
     "metadata": {},
     "source": [
      "\u041f\u043e\u043f\u0440\u043e\u0431\u0443\u0435\u043c \u0447\u0442\u043e-\u043d\u0438\u0431\u0443\u0434\u044c \u043f\u043e\u0434\u0435\u043b\u0430\u0442\u044c \u0441\u0440\u0435\u0434\u0441\u0442\u0432\u0430\u043c\u0438 \u0447\u0438\u0441\u0442\u043e\u0433\u043e Python \u0431\u0435\u0437 \u0434\u043e\u043f\u043e\u043b\u043d\u0438\u0442\u0435\u043b\u044c\u043d\u044b\u0445 \u0431\u0438\u0431\u043b\u0438\u043e\u0442\u0435\u043a"
     ]
    },
    {
     "cell_type": "code",
     "collapsed": false,
     "input": [
      "! cat data.txt"
     ],
     "language": "python",
     "metadata": {},
     "outputs": [
      {
       "output_type": "stream",
       "stream": "stdout",
       "text": [
        "Feature1,Weight,Height,Bla-bla,Size,Class\r\n",
        "10.0,12,344,0,23.0,Class1\r\n",
        "7.2,12,208,0,18.0,Class2\r\n",
        "19.0,11,344,1,21.0,Class4\r\n",
        "7.2,13,208,0,20.0,Class2\r\n",
        "9.2,20,208,0,17.0,Class1\r\n",
        "19.0,11,254,2,11.0,Class3\r\n"
       ]
      }
     ],
     "prompt_number": 95
    },
    {
     "cell_type": "markdown",
     "metadata": {},
     "source": [
      "\u0421\u0447\u0438\u0442\u0430\u0435\u043c \u0434\u0430\u043d\u043d\u044b\u0435 \u0438 \u0441\u043e\u0445\u0440\u0430\u043d\u0438\u043c \u0432 \u0443\u0434\u043e\u0431\u043d\u043e\u043c \u0434\u043b\u044f \u043d\u0430\u0441 \u0444\u043e\u0440\u043c\u0430\u0442\u0435"
     ]
    },
    {
     "cell_type": "code",
     "collapsed": false,
     "input": [
      "fin = open('data.txt')\n",
      "points = []\n",
      "first = True\n",
      "for line in fin:\n",
      "    if first:\n",
      "        first = False\n",
      "        continue\n",
      "    columns = line.strip().split(',')\n",
      "    features = [float(feature) for feature in columns[:5]]\n",
      "    label = columns[5]\n",
      "    points.append({'features': features, 'label': label})\n",
      "    \n",
      "fin.close()\n",
      "print points"
     ],
     "language": "python",
     "metadata": {},
     "outputs": [
      {
       "output_type": "stream",
       "stream": "stdout",
       "text": [
        "[{'features': [10.0, 12.0, 344.0, 0.0, 23.0], 'label': 'Class1'}, {'features': [7.2, 12.0, 208.0, 0.0, 18.0], 'label': 'Class2'}, {'features': [19.0, 11.0, 344.0, 1.0, 21.0], 'label': 'Class4'}, {'features': [7.2, 13.0, 208.0, 0.0, 20.0], 'label': 'Class2'}, {'features': [9.2, 20.0, 208.0, 0.0, 17.0], 'label': 'Class1'}, {'features': [19.0, 11.0, 254.0, 2.0, 11.0], 'label': 'Class3'}]\n"
       ]
      }
     ],
     "prompt_number": 98
    },
    {
     "cell_type": "markdown",
     "metadata": {},
     "source": [
      "\u041f\u043e\u0441\u0447\u0438\u0442\u0430\u0435\u043c \u043a\u043e\u043b\u0438\u0447\u0435\u0441\u0442\u0432\u043e \u0437\u043d\u0430\u0447\u0435\u043d\u0438\u0439 \u043a\u0430\u0436\u0434\u043e\u0433\u043e \u043a\u043b\u0430\u0441\u0441\u0430"
     ]
    },
    {
     "cell_type": "code",
     "collapsed": false,
     "input": [
      "from collections import defaultdict\n",
      "counter = defaultdict(int)\n",
      "for point in points:\n",
      "    counter[point['label']] += 1\n",
      "print counter"
     ],
     "language": "python",
     "metadata": {},
     "outputs": [
      {
       "output_type": "stream",
       "stream": "stdout",
       "text": [
        "defaultdict(<type 'int'>, {'Class4': 1, 'Class2': 2, 'Class3': 1, 'Class1': 2})\n"
       ]
      }
     ],
     "prompt_number": 100
    },
    {
     "cell_type": "heading",
     "level": 1,
     "metadata": {},
     "source": [
      "\u041f\u043e\u0440\u0430\u0431\u043e\u0442\u0430\u0435\u043c \u0441 \u0434\u043e\u043f\u043e\u043b\u043d\u0438\u0442\u0435\u043b\u044c\u043d\u044b\u043c\u0438 \u0431\u0438\u0431\u043b\u0438\u043e\u0442\u0435\u043a\u0430\u043c\u0438 (true way)"
     ]
    },
    {
     "cell_type": "markdown",
     "metadata": {},
     "source": [
      "\u041f\u043e\u0434\u0433\u0440\u0443\u0436\u0430\u0435\u043c \u043d\u0443\u0436\u043d\u044b\u0435 \u0431\u0438\u0431\u043b\u0438\u043e\u0442\u0435\u043a\u0438. \u0421\u0440\u0430\u0437\u0443 \u043f\u043e\u0434\u0433\u0440\u0443\u0436\u0430\u0435\u043c \u0432\u0441\u0435 \u0442\u0440\u0438 \u0438 \u0434\u0430\u043b\u044c\u0448\u0435, \u043d\u0435 \u0437\u0430\u0434\u0443\u043c\u044b\u0432\u0430\u044f\u0441\u044c, \u0438\u0441\u043f\u043e\u043b\u044c\u0437\u0443\u0435\u043c \u0438\u0445."
     ]
    },
    {
     "cell_type": "code",
     "collapsed": false,
     "input": [
      "import numpy as np\n",
      "import pandas as pd\n",
      "import pylab as pl"
     ],
     "language": "python",
     "metadata": {},
     "outputs": [],
     "prompt_number": 102
    },
    {
     "cell_type": "markdown",
     "metadata": {},
     "source": [
      "\u0421\u0447\u0438\u0442\u0430\u0435\u043c \u0438 \u0432\u044b\u0432\u0435\u0434\u0435\u043c \u0434\u0430\u043d\u043d\u044b\u0435 \u0432 \u0444\u0430\u0439\u043b\u0435"
     ]
    },
    {
     "cell_type": "code",
     "collapsed": false,
     "input": [
      "df = pd.read_csv('data.txt')\n",
      "df"
     ],
     "language": "python",
     "metadata": {},
     "outputs": [
      {
       "html": [
        "<div style=\"max-height:1000px;max-width:1500px;overflow:auto;\">\n",
        "<table border=\"1\" class=\"dataframe\">\n",
        "  <thead>\n",
        "    <tr style=\"text-align: right;\">\n",
        "      <th></th>\n",
        "      <th>Feature1</th>\n",
        "      <th>Weight</th>\n",
        "      <th>Height</th>\n",
        "      <th>Bla-bla</th>\n",
        "      <th>Size</th>\n",
        "      <th>Class</th>\n",
        "    </tr>\n",
        "  </thead>\n",
        "  <tbody>\n",
        "    <tr>\n",
        "      <th>0</th>\n",
        "      <td> 10.0</td>\n",
        "      <td> 12</td>\n",
        "      <td> 344</td>\n",
        "      <td> 0</td>\n",
        "      <td> 23</td>\n",
        "      <td> Class1</td>\n",
        "    </tr>\n",
        "    <tr>\n",
        "      <th>1</th>\n",
        "      <td>  7.2</td>\n",
        "      <td> 12</td>\n",
        "      <td> 208</td>\n",
        "      <td> 0</td>\n",
        "      <td> 18</td>\n",
        "      <td> Class2</td>\n",
        "    </tr>\n",
        "    <tr>\n",
        "      <th>2</th>\n",
        "      <td> 19.0</td>\n",
        "      <td> 11</td>\n",
        "      <td> 344</td>\n",
        "      <td> 1</td>\n",
        "      <td> 21</td>\n",
        "      <td> Class4</td>\n",
        "    </tr>\n",
        "    <tr>\n",
        "      <th>3</th>\n",
        "      <td>  7.2</td>\n",
        "      <td> 13</td>\n",
        "      <td> 208</td>\n",
        "      <td> 0</td>\n",
        "      <td> 20</td>\n",
        "      <td> Class2</td>\n",
        "    </tr>\n",
        "    <tr>\n",
        "      <th>4</th>\n",
        "      <td>  9.2</td>\n",
        "      <td> 20</td>\n",
        "      <td> 208</td>\n",
        "      <td> 0</td>\n",
        "      <td> 17</td>\n",
        "      <td> Class1</td>\n",
        "    </tr>\n",
        "    <tr>\n",
        "      <th>5</th>\n",
        "      <td> 19.0</td>\n",
        "      <td> 11</td>\n",
        "      <td> 254</td>\n",
        "      <td> 2</td>\n",
        "      <td> 11</td>\n",
        "      <td> Class3</td>\n",
        "    </tr>\n",
        "  </tbody>\n",
        "</table>\n",
        "</div>"
       ],
       "metadata": {},
       "output_type": "pyout",
       "prompt_number": 104,
       "text": [
        "   Feature1  Weight  Height  Bla-bla  Size   Class\n",
        "0      10.0      12     344        0    23  Class1\n",
        "1       7.2      12     208        0    18  Class2\n",
        "2      19.0      11     344        1    21  Class4\n",
        "3       7.2      13     208        0    20  Class2\n",
        "4       9.2      20     208        0    17  Class1\n",
        "5      19.0      11     254        2    11  Class3"
       ]
      }
     ],
     "prompt_number": 104
    },
    {
     "cell_type": "markdown",
     "metadata": {},
     "source": [
      "\u041a\u0441\u0442\u0430\u0442\u0438, \u043f\u043e\u0432\u0435\u0434\u0435\u043d\u0438\u0435 print \u043d\u0435\u043c\u043d\u043e\u0433\u043e \u0434\u0440\u0443\u0433\u043e\u0435 :)"
     ]
    },
    {
     "cell_type": "code",
     "collapsed": false,
     "input": [
      "print df"
     ],
     "language": "python",
     "metadata": {},
     "outputs": [
      {
       "output_type": "stream",
       "stream": "stdout",
       "text": [
        "   Feature1  Weight  Height  Bla-bla  Size   Class\n",
        "0      10.0      12     344        0    23  Class1\n",
        "1       7.2      12     208        0    18  Class2\n",
        "2      19.0      11     344        1    21  Class4\n",
        "3       7.2      13     208        0    20  Class2\n",
        "4       9.2      20     208        0    17  Class1\n",
        "5      19.0      11     254        2    11  Class3\n"
       ]
      }
     ],
     "prompt_number": 105
    },
    {
     "cell_type": "markdown",
     "metadata": {},
     "source": [
      "\u0421\u0440\u0435\u0437\u044b \u0432 dataframe \u0431\u0435\u0440\u0443\u0442\u0441\u044f \u043f\u043e \u0441\u0442\u0440\u043e\u043a\u0430\u043c"
     ]
    },
    {
     "cell_type": "code",
     "collapsed": false,
     "input": [
      "df[2:5]"
     ],
     "language": "python",
     "metadata": {},
     "outputs": [
      {
       "html": [
        "<div style=\"max-height:1000px;max-width:1500px;overflow:auto;\">\n",
        "<table border=\"1\" class=\"dataframe\">\n",
        "  <thead>\n",
        "    <tr style=\"text-align: right;\">\n",
        "      <th></th>\n",
        "      <th>Feature1</th>\n",
        "      <th>Weight</th>\n",
        "      <th>Height</th>\n",
        "      <th>Bla-bla</th>\n",
        "      <th>Size</th>\n",
        "      <th>Class</th>\n",
        "    </tr>\n",
        "  </thead>\n",
        "  <tbody>\n",
        "    <tr>\n",
        "      <th>2</th>\n",
        "      <td> 19.0</td>\n",
        "      <td> 11</td>\n",
        "      <td> 344</td>\n",
        "      <td> 1</td>\n",
        "      <td> 21</td>\n",
        "      <td> Class4</td>\n",
        "    </tr>\n",
        "    <tr>\n",
        "      <th>3</th>\n",
        "      <td>  7.2</td>\n",
        "      <td> 13</td>\n",
        "      <td> 208</td>\n",
        "      <td> 0</td>\n",
        "      <td> 20</td>\n",
        "      <td> Class2</td>\n",
        "    </tr>\n",
        "    <tr>\n",
        "      <th>4</th>\n",
        "      <td>  9.2</td>\n",
        "      <td> 20</td>\n",
        "      <td> 208</td>\n",
        "      <td> 0</td>\n",
        "      <td> 17</td>\n",
        "      <td> Class1</td>\n",
        "    </tr>\n",
        "  </tbody>\n",
        "</table>\n",
        "</div>"
       ],
       "metadata": {},
       "output_type": "pyout",
       "prompt_number": 75,
       "text": [
        "   Feature1  Weight  Height  Bla-bla  Size   Class\n",
        "2      19.0      11     344        1    21  Class4\n",
        "3       7.2      13     208        0    20  Class2\n",
        "4       9.2      20     208        0    17  Class1"
       ]
      }
     ],
     "prompt_number": 75
    },
    {
     "cell_type": "markdown",
     "metadata": {},
     "source": [
      "\u0417\u0430\u0442\u043e \u043e\u0431\u0440\u0430\u0449\u0435\u043d\u0438\u0435 \u043f\u043e \u043e\u0434\u043d\u043e\u043c\u0443 \u0438\u043d\u0434\u0435\u043a\u0441\u0443 \u043e\u0437\u043d\u0430\u0447\u0430\u0435\u0442 \u0441\u0442\u043e\u043b\u0431\u0435\u0446 "
     ]
    },
    {
     "cell_type": "code",
     "collapsed": false,
     "input": [
      "df['Class']"
     ],
     "language": "python",
     "metadata": {},
     "outputs": [
      {
       "metadata": {},
       "output_type": "pyout",
       "prompt_number": 107,
       "text": [
        "0    Class1\n",
        "1    Class2\n",
        "2    Class4\n",
        "3    Class2\n",
        "4    Class1\n",
        "5    Class3\n",
        "Name: Class, dtype: object"
       ]
      }
     ],
     "prompt_number": 107
    },
    {
     "cell_type": "markdown",
     "metadata": {},
     "source": [
      "\u0412\u043e\u0442 \u0442\u0430\u043a \u043e\u0434\u043d\u043e\u0439 \u0441\u0442\u0440\u043e\u0447\u043a\u043e\u0439 \u043c\u043e\u0436\u043d\u043e \u043f\u043e\u0434\u0441\u0447\u0438\u0442\u0430\u0442\u044c \u0438 \u0432\u0438\u0437\u0443\u0430\u043b\u0438\u0437\u0438\u0440\u043e\u0432\u0430\u0442\u044c \u043a\u043e\u043b\u0438\u0447\u0435\u0441\u0442\u0432\u043e \u043e\u0431\u044a\u0435\u043a\u0442\u043e\u0432 \u043a\u0430\u0436\u0434\u043e\u0433\u043e \u043a\u043b\u0430\u0441\u0441\u0430"
     ]
    },
    {
     "cell_type": "code",
     "collapsed": false,
     "input": [
      "df['Class'].value_counts().plot(kind='barh', color=\"blue\", alpha=.65)"
     ],
     "language": "python",
     "metadata": {},
     "outputs": [
      {
       "metadata": {},
       "output_type": "pyout",
       "prompt_number": 108,
       "text": [
        "<matplotlib.axes.AxesSubplot at 0x106a05850>"
       ]
      },
      {
       "metadata": {},
       "output_type": "display_data",
       "png": "[encoded data removed]",
       "text": [
        "<matplotlib.figure.Figure at 0x106a05a10>"
       ]
      }
     ],
     "prompt_number": 108
    },
    {
     "cell_type": "markdown",
     "metadata": {},
     "source": [
      "\u041c\u043e\u0436\u043d\u043e \u043f\u0440\u043e\u0441\u0442\u043e \u0441\u0447\u0438\u0442\u0430\u0442\u044c \u0441\u0440\u0435\u0434\u043d\u0435\u0435 \u0438 \u0434\u0438\u0441\u043f\u0435\u0440\u0441\u0438\u044e"
     ]
    },
    {
     "cell_type": "code",
     "collapsed": false,
     "input": [
      "print df['Feature1'].mean()\n",
      "print df['Feature1'].var()"
     ],
     "language": "python",
     "metadata": {},
     "outputs": [
      {
       "output_type": "stream",
       "stream": "stdout",
       "text": [
        "11.9333333333\n",
        "31.1786666667\n"
       ]
      }
     ],
     "prompt_number": 109
    },
    {
     "cell_type": "markdown",
     "metadata": {},
     "source": [
      "\u041c\u043e\u0436\u043d\u043e \u043f\u0440\u043e\u0432\u0435\u0440\u044f\u0442\u044c \u0443\u0441\u043b\u043e\u0432\u0438\u044f \u0441\u0440\u0430\u0437\u0443 \u043d\u0430 \u0446\u0435\u043b\u044b\u0439 \u0441\u0442\u043e\u043b\u0431\u0435\u0446"
     ]
    },
    {
     "cell_type": "code",
     "collapsed": false,
     "input": [
      "df['Feature1'] >= 10"
     ],
     "language": "python",
     "metadata": {},
     "outputs": [
      {
       "metadata": {},
       "output_type": "pyout",
       "prompt_number": 110,
       "text": [
        "0     True\n",
        "1    False\n",
        "2     True\n",
        "3    False\n",
        "4    False\n",
        "5     True\n",
        "Name: Feature1, dtype: bool"
       ]
      }
     ],
     "prompt_number": 110
    },
    {
     "cell_type": "markdown",
     "metadata": {},
     "source": [
      "\u0422\u0430\u043a\u0436\u0435 \u043c\u043e\u0436\u043d\u043e \u0438\u0441\u043f\u043e\u043b\u044c\u0437\u043e\u0432\u0430\u0442\u044c \u043f\u043e\u043b\u0443\u0447\u0435\u043d\u043d\u044b\u0439 \u0431\u0438\u043d\u0430\u0440\u043d\u044b\u0439 \u0432\u0435\u043a\u0442\u043e\u0440 \u0432 \u043a\u0430\u0447\u0435\u0441\u0442\u0432\u0435 \u0438\u043d\u0434\u0435\u043a\u0441\u043e\u0432"
     ]
    },
    {
     "cell_type": "code",
     "collapsed": false,
     "input": [
      "df[df['Feature1'] >= 10]"
     ],
     "language": "python",
     "metadata": {},
     "outputs": [
      {
       "html": [
        "<div style=\"max-height:1000px;max-width:1500px;overflow:auto;\">\n",
        "<table border=\"1\" class=\"dataframe\">\n",
        "  <thead>\n",
        "    <tr style=\"text-align: right;\">\n",
        "      <th></th>\n",
        "      <th>Feature1</th>\n",
        "      <th>Weight</th>\n",
        "      <th>Height</th>\n",
        "      <th>Bla-bla</th>\n",
        "      <th>Size</th>\n",
        "      <th>Class</th>\n",
        "    </tr>\n",
        "  </thead>\n",
        "  <tbody>\n",
        "    <tr>\n",
        "      <th>0</th>\n",
        "      <td> 10</td>\n",
        "      <td> 12</td>\n",
        "      <td> 344</td>\n",
        "      <td> 0</td>\n",
        "      <td> 23</td>\n",
        "      <td> Class1</td>\n",
        "    </tr>\n",
        "    <tr>\n",
        "      <th>2</th>\n",
        "      <td> 19</td>\n",
        "      <td> 11</td>\n",
        "      <td> 344</td>\n",
        "      <td> 1</td>\n",
        "      <td> 21</td>\n",
        "      <td> Class4</td>\n",
        "    </tr>\n",
        "    <tr>\n",
        "      <th>5</th>\n",
        "      <td> 19</td>\n",
        "      <td> 11</td>\n",
        "      <td> 254</td>\n",
        "      <td> 2</td>\n",
        "      <td> 11</td>\n",
        "      <td> Class3</td>\n",
        "    </tr>\n",
        "  </tbody>\n",
        "</table>\n",
        "</div>"
       ],
       "metadata": {},
       "output_type": "pyout",
       "prompt_number": 111,
       "text": [
        "   Feature1  Weight  Height  Bla-bla  Size   Class\n",
        "0        10      12     344        0    23  Class1\n",
        "2        19      11     344        1    21  Class4\n",
        "5        19      11     254        2    11  Class3"
       ]
      }
     ],
     "prompt_number": 111
    },
    {
     "cell_type": "markdown",
     "metadata": {},
     "source": [
      "\u0420\u0430\u0437\u0443\u043c\u0435\u0435\u0442\u0441\u044f, \u043c\u043e\u0436\u043d\u043e \u043d\u0430\u0439\u0442\u0438 \u0432\u044b\u0441\u043e\u0442\u0443 \u0441\u0442\u043e\u043b\u0431\u0446\u0430"
     ]
    },
    {
     "cell_type": "code",
     "collapsed": false,
     "input": [
      "print len(df[df['Feature1'] >= 10])"
     ],
     "language": "python",
     "metadata": {},
     "outputs": [
      {
       "output_type": "stream",
       "stream": "stdout",
       "text": [
        "3\n"
       ]
      }
     ],
     "prompt_number": 112
    },
    {
     "cell_type": "markdown",
     "metadata": {},
     "source": [
      "\u041d\u0430 \u0442\u0435\u043a\u0443\u0449\u0438\u0445 \u0434\u0430\u043d\u043d\u044b\u0445 \u044d\u0442\u043e \u043d\u0435 \u0430\u043a\u0442\u0443\u0430\u043b\u044c\u043d\u043e, \u043d\u043e \u043c\u043e\u0436\u043d\u043e \u0437\u0430\u043c\u0435\u043d\u044f\u0442\u044c \u043d\u0435\u043a\u043e\u0442\u043e\u0440\u044b\u0435 \u0437\u043d\u0430\u0447\u0435\u043d\u0438\u044f \u0432\u043e \u0444\u0440\u0435\u0439\u043c\u0435 \u043d\u0430 \u0434\u0440\u0443\u0433\u0438\u0435. \u0418\u043b\u0438 \u0436\u0435 \u0443\u0434\u0430\u043b\u044f\u0442\u044c \u0441\u0442\u0440\u043e\u043a\u0438 \u0441 \u043f\u0440\u043e\u043f\u0443\u0449\u0435\u043d\u043d\u044b\u043c\u0438 \u0437\u043d\u0430\u0447\u0435\u043d\u0438\u044f\u043c\u0438."
     ]
    },
    {
     "cell_type": "code",
     "collapsed": false,
     "input": [
      "#df = df.replace('?', np.nan)\n",
      "#df = df.dropna()"
     ],
     "language": "python",
     "metadata": {},
     "outputs": [],
     "prompt_number": 113
    },
    {
     "cell_type": "markdown",
     "metadata": {},
     "source": [
      "\u041f\u043e\u043f\u0440\u043e\u0431\u0443\u0435\u043c \u0443\u0434\u0430\u043b\u0438\u0442\u044c \u0441\u0442\u043e\u043b\u0431\u0435\u0446 \u0441 \u043a\u043b\u0430\u0441\u0441\u043e\u043c."
     ]
    },
    {
     "cell_type": "code",
     "collapsed": false,
     "input": [
      "print df.drop('Class', axis=1)"
     ],
     "language": "python",
     "metadata": {},
     "outputs": [
      {
       "output_type": "stream",
       "stream": "stdout",
       "text": [
        "   Feature1  Weight  Height  Bla-bla  Size\n",
        "0      10.0      12     344        0    23\n",
        "1       7.2      12     208        0    18\n",
        "2      19.0      11     344        1    21\n",
        "3       7.2      13     208        0    20\n",
        "4       9.2      20     208        0    17\n",
        "5      19.0      11     254        2    11\n"
       ]
      }
     ],
     "prompt_number": 116
    },
    {
     "cell_type": "markdown",
     "metadata": {},
     "source": [
      "\u041f\u0440\u0435\u043e\u0431\u0440\u0430\u0437\u0443\u0435\u043c \u0435\u0433\u043e \u043a \u043c\u0430\u0442\u0440\u0438\u0446\u0435 numpy \u0441 \u0432\u0435\u0449\u0435\u0441\u0442\u0432\u0435\u043d\u043d\u044b\u043c\u0438 \u0437\u043d\u0430\u0447\u0435\u043d\u0438\u044f\u043c\u0438"
     ]
    },
    {
     "cell_type": "code",
     "collapsed": false,
     "input": [
      "mat = df.drop('Class', axis=1).values.astype(np.float32)\n",
      "print mat"
     ],
     "language": "python",
     "metadata": {},
     "outputs": [
      {
       "output_type": "stream",
       "stream": "stdout",
       "text": [
        "[[  10.           12.          344.            0.           23.        ]\n",
        " [   7.19999981   12.          208.            0.           18.        ]\n",
        " [  19.           11.          344.            1.           21.        ]\n",
        " [   7.19999981   13.          208.            0.           20.        ]\n",
        " [   9.19999981   20.          208.            0.           17.        ]\n",
        " [  19.           11.          254.            2.           11.        ]]\n"
       ]
      }
     ],
     "prompt_number": 120
    },
    {
     "cell_type": "markdown",
     "metadata": {},
     "source": [
      "\u0412 \u0442\u0430\u043a\u043e\u0439 \u043c\u0430\u0442\u0440\u0438\u0446\u0435 \u043c\u043e\u0436\u043d\u043e \u043e\u0431\u0440\u0430\u0449\u0430\u0442\u044c\u0441\u044f \u043f\u043e \u043a\u0430\u0436\u0434\u043e\u0439 \u0438\u0437 \u043a\u043e\u043e\u0440\u0434\u0438\u043d\u0430\u0442, \u0431\u0440\u0430\u0442\u044c \u0441\u0440\u0435\u0437\u044b \u0438 \u0442.\u043f."
     ]
    },
    {
     "cell_type": "code",
     "collapsed": false,
     "input": [
      "mat[1, 1:]"
     ],
     "language": "python",
     "metadata": {},
     "outputs": [
      {
       "metadata": {},
       "output_type": "pyout",
       "prompt_number": 121,
       "text": [
        "array([  12.,  208.,    0.,   18.], dtype=float32)"
       ]
      }
     ],
     "prompt_number": 121
    },
    {
     "cell_type": "code",
     "collapsed": false,
     "input": [],
     "language": "python",
     "metadata": {},
     "outputs": []
    }
   ],
   "metadata": {}
  }
 ]
}