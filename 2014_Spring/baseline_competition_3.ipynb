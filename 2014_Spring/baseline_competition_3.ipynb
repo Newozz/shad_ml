{
 "metadata": {
  "name": "",
  "signature": "sha256:a028b84bb1fc7afbbe41c44c817e9c7dd346df8fe10f7ea37b06f9f1bea8b22d"
 },
 "nbformat": 3,
 "nbformat_minor": 0,
 "worksheets": [
  {
   "cells": [
    {
     "cell_type": "heading",
     "level": 1,
     "metadata": {},
     "source": [
      "\u041f\u0440\u0438\u043c\u0435\u0440\u044b \u0440\u0435\u0448\u0435\u043d\u0438\u0439 \u043a\u043e\u043d\u043a\u0443\u0440\u0441\u043d\u043e\u0433\u043e \u0437\u0430\u0434\u0430\u043d\u0438\u044f 3"
     ]
    },
    {
     "cell_type": "heading",
     "level": 2,
     "metadata": {},
     "source": [
      "\u041f\u043e\u0434\u0433\u043e\u0442\u043e\u0432\u043a\u0430 \u0434\u0430\u043d\u043d\u044b\u0445"
     ]
    },
    {
     "cell_type": "markdown",
     "metadata": {},
     "source": [
      "\u041d\u0430\u043f\u0438\u0448\u0435\u043c \u0444\u0443\u043d\u043a\u0446\u0438\u044e \u0434\u043b\u044f \u0441\u0447\u0438\u0442\u044b\u0432\u0430\u043d\u0438\u044f \u0434\u0430\u043d\u043d\u044b\u0445 \u0432 \u0440\u0430\u0437\u0440\u0435\u0436\u0435\u043d\u043d\u0443\u044e \u043c\u0430\u0442\u0440\u0438\u0446\u0443."
     ]
    },
    {
     "cell_type": "code",
     "collapsed": false,
     "input": [
      "from scipy import sparse\n",
      "\n",
      "def read_data_from_file(filename):\n",
      "    values = list()\n",
      "    rows = list()\n",
      "    cols = list()\n",
      "    \n",
      "    header = True\n",
      "    for line in open(filename):\n",
      "        if header:\n",
      "            header = False\n",
      "            continue\n",
      "        value, row, col = [int(x) for x in line.strip().split(',')]\n",
      "        row -= 1\n",
      "        col -= 1\n",
      "        values.append(value)\n",
      "        rows.append(row)\n",
      "        cols.append(col)\n",
      "        \n",
      "    return sparse.csr_matrix((values, (rows, cols)), shape=(10000, 25640))"
     ],
     "language": "python",
     "metadata": {},
     "outputs": [],
     "prompt_number": 1
    },
    {
     "cell_type": "markdown",
     "metadata": {},
     "source": [
      "\u0421\u0447\u0438\u0442\u0430\u0435\u043c \u0434\u0430\u043d\u043d\u044b\u0435"
     ]
    },
    {
     "cell_type": "code",
     "collapsed": false,
     "input": [
      "X_train = read_data_from_file('X_train.csv').astype(float)\n",
      "X_test = read_data_from_file('X_test.csv').astype(float)\n",
      "print X_train.shape, X_test.shape"
     ],
     "language": "python",
     "metadata": {},
     "outputs": [
      {
       "output_type": "stream",
       "stream": "stdout",
       "text": [
        "(10000, 25640) (10000, 25640)\n"
       ]
      }
     ],
     "prompt_number": 2
    },
    {
     "cell_type": "markdown",
     "metadata": {},
     "source": [
      "\u041d\u043e\u0440\u043c\u0438\u0440\u0443\u0435\u043c \u043f\u0440\u0438\u0437\u043d\u0430\u043a\u0438"
     ]
    },
    {
     "cell_type": "code",
     "collapsed": false,
     "input": [
      "from sklearn.preprocessing import scale\n",
      "\n",
      "X_all = sparse.vstack([X_train, X_test])\n",
      "X_all = scale(X_all, with_mean=False)\n",
      "X_train = X_all[:10000, :]\n",
      "X_test = X_all[10000:, :]\n",
      "\n",
      "del X_all"
     ],
     "language": "python",
     "metadata": {},
     "outputs": [],
     "prompt_number": 3
    },
    {
     "cell_type": "markdown",
     "metadata": {},
     "source": [
      "\u041d\u0430\u043f\u0438\u0448\u0435\u043c \u0444\u0443\u043d\u043a\u0446\u0438\u044e \u0434\u043b\u044f \u0441\u0447\u0438\u0442\u044b\u0432\u0430\u043d\u0438\u044f \u043c\u0435\u0442\u043e\u043a"
     ]
    },
    {
     "cell_type": "code",
     "collapsed": false,
     "input": [
      "def read_labels_from_file(filename):\n",
      "    labels = zeros((10000, 83)).astype(int)\n",
      "\n",
      "    header = True\n",
      "    for line in open(filename):\n",
      "        if header:\n",
      "            header = False\n",
      "            continue\n",
      "        row, indeces = line.strip().split(',')\n",
      "        row = int(row) - 1\n",
      "        indeces = [int(x) - 1 for x in indeces.split()]\n",
      "        labels[row, indeces] = 1\n",
      "    \n",
      "    return labels"
     ],
     "language": "python",
     "metadata": {},
     "outputs": [],
     "prompt_number": 4
    },
    {
     "cell_type": "markdown",
     "metadata": {},
     "source": [
      "\u0421\u0447\u0438\u0442\u0430\u0435\u043c \u0438\u0441\u0442\u0438\u043d\u043d\u044b\u0435 \u043c\u0435\u0442\u043a\u0438"
     ]
    },
    {
     "cell_type": "code",
     "collapsed": false,
     "input": [
      "y_train = read_labels_from_file('y_train.csv')\n",
      "print y_train.shape"
     ],
     "language": "python",
     "metadata": {},
     "outputs": [
      {
       "output_type": "stream",
       "stream": "stdout",
       "text": [
        "(10000, 83)\n"
       ]
      }
     ],
     "prompt_number": 5
    },
    {
     "cell_type": "markdown",
     "metadata": {},
     "source": [
      "\u0418, \u043d\u0430\u043a\u043e\u043d\u0435\u0446, \u043d\u0430\u043f\u0438\u0448\u0435\u043c \u0444\u0443\u043d\u043a\u0446\u0438\u044f \u0434\u043b\u044f \u0432\u044b\u0432\u043e\u0434\u0430 \u043c\u0435\u0442\u043e\u043a \u0432 \u043d\u0443\u0436\u043d\u043e\u043c \u0444\u043e\u0440\u043c\u0430\u0442\u0435"
     ]
    },
    {
     "cell_type": "code",
     "collapsed": false,
     "input": [
      "def write_labels_to_file(labels, filename):\n",
      "    outfile = open(filename, 'w')\n",
      "    print >> outfile, \"Id,Labels\"\n",
      "    for i, line in enumerate(labels):\n",
      "        elements = [str(x) for x in list(nonzero(line)[0] + 1)]\n",
      "        \n",
      "        print >> outfile, \"%d,%s\" % (i + 1, ' '.join(elements))"
     ],
     "language": "python",
     "metadata": {},
     "outputs": [],
     "prompt_number": 6
    },
    {
     "cell_type": "heading",
     "level": 2,
     "metadata": {},
     "source": [
      "KNN baseline"
     ]
    },
    {
     "cell_type": "markdown",
     "metadata": {},
     "source": [
      "\u0412 \u043a\u0430\u0447\u0435\u0441\u0442\u0432\u0435 \u0431\u0435\u0439\u0437\u043b\u0430\u0439\u043d\u0430 \u0432\u043e\u0441\u043f\u043e\u043b\u044c\u0437\u0443\u0435\u043c\u0441\u044f \u043c\u0435\u0442\u043e\u0434\u043e\u043c \u0431\u043b\u0438\u0436\u0430\u0439\u0448\u0435\u0433\u043e \u0441\u043e\u0441\u0435\u0434\u0430. \u0414\u043b\u044f \u044d\u0442\u043e\u0433\u043e \u043d\u0430\u0448\u0435\u043c \u043e\u0431\u0435\u0440\u0442\u043a\u0443 \u0434\u043b\u044f \u0440\u0435\u0448\u0435\u043d\u0438\u044f \u0437\u0430\u0434\u0430\u0447\u0438 \u043c\u043d\u043e\u0433\u043e\u043a\u043b\u0430\u0441\u0441\u043e\u0432\u043e\u0439 \u043a\u043b\u0430\u0441\u0441\u0438\u0444\u0438\u043a\u0430\u0446\u0438\u0438 \u0438 \u043f\u0435\u0440\u0435\u0441\u0435\u043a\u0430\u044e\u0449\u0438\u043c\u0438\u0441\u044f \u043a\u043b\u0430\u0441\u0441\u0430\u043c\u0438."
     ]
    },
    {
     "cell_type": "code",
     "collapsed": false,
     "input": [
      "from sklearn.base import BaseEstimator, ClassifierMixin\n",
      "from sklearn.neighbors import KNeighborsClassifier\n",
      "from sklearn.multiclass import OneVsRestClassifier\n",
      "\n",
      "class BaselineKnnClassifier(BaseEstimator, ClassifierMixin):\n",
      "    def __init__(self, k=1, n_jobs=3):\n",
      "        self.k = k\n",
      "        self.n_jobs = n_jobs\n",
      "    \n",
      "    def fit(self, X, y):\n",
      "        self.clf = OneVsRestClassifier(\n",
      "                KNeighborsClassifier(n_neighbors=self.k, weights='distance'),\n",
      "                n_jobs=self.n_jobs,\n",
      "        )\n",
      "        self.clf.fit(X, y)\n",
      "    \n",
      "    def predict(self, X):\n",
      "        return self.clf.predict(X)"
     ],
     "language": "python",
     "metadata": {},
     "outputs": [],
     "prompt_number": 7
    },
    {
     "cell_type": "markdown",
     "metadata": {},
     "source": [
      "\u041f\u043e\u0434\u0431\u0435\u0440\u0435\u043c \u043e\u043f\u0442\u0438\u043c\u0430\u043b\u044c\u043d\u043e\u0435 \u0447\u0438\u0441\u043b\u043e \u0441\u043e\u0441\u0435\u0434\u0435\u0439 \u0432 \u0441\u043e\u043e\u0442\u0432\u0435\u0442\u0441\u0442\u0432\u0438\u0438 \u0441 \u0442\u0440\u0435\u0431\u0443\u0435\u043c\u043e\u0439 \u043c\u0435\u0442\u0440\u0438\u043a\u043e\u0439"
     ]
    },
    {
     "cell_type": "code",
     "collapsed": false,
     "input": [
      "from sklearn.metrics import f1_score, make_scorer\n",
      "from sklearn.grid_search import GridSearchCV\n",
      "\n",
      "grid_searcher = GridSearchCV(\n",
      "        estimator=BaselineKnnClassifier(),\n",
      "        param_grid={'k': logspace(0, 3, 10).astype(int)},\n",
      "        scoring=make_scorer(f1_score, average='samples'),\n",
      "        cv=2,\n",
      ")\n",
      "\n",
      "grid_searcher.fit(X_train, y_train)"
     ],
     "language": "python",
     "metadata": {},
     "outputs": [
      {
       "metadata": {},
       "output_type": "pyout",
       "prompt_number": 20,
       "text": [
        "GridSearchCV(cv=2, estimator=BaselineKnnClassifier(k=1, n_jobs=3),\n",
        "       fit_params={}, iid=True, loss_func=None, n_jobs=1,\n",
        "       param_grid={'k': array([   1,    2,    4,   10,   21,   46,  100,  215,  464, 1000])},\n",
        "       pre_dispatch='2*n_jobs', refit=True, score_func=None,\n",
        "       scoring=make_scorer(f1_score, average=samples), verbose=0)"
       ]
      }
     ],
     "prompt_number": 20
    },
    {
     "cell_type": "markdown",
     "metadata": {},
     "source": [
      "\u041d\u0430\u043f\u0438\u0448\u0435\u043c \u0432\u0441\u043f\u043e\u043c\u043e\u0433\u0430\u0442\u0435\u043b\u044c\u043d\u0443\u044e \u0444\u0443\u043d\u043a\u0446\u0438\u044e \u0434\u043b\u044f \u0432\u0438\u0437\u0443\u0430\u043b\u0438\u0437\u0430\u0446\u0438\u0438 \u0440\u0435\u0437\u0443\u043b\u044c\u0442\u0430\u0442\u043e\u0432"
     ]
    },
    {
     "cell_type": "code",
     "collapsed": false,
     "input": [
      "def plot_grid_searcher_results(grid_seacher, log_scale):\n",
      "    means = list()\n",
      "    param_values = list()\n",
      "\n",
      "    for score in grid_searcher.grid_scores_:\n",
      "        print score.cv_validation_scores\n",
      "        means.append(score.mean_validation_score)\n",
      "        param_values.append(score.parameters.values()[0])\n",
      "\n",
      "    parameter_name = grid_searcher.grid_scores_[0].parameters.keys()[0]\n",
      "    means = array(means)\n",
      "    \n",
      "    plot(param_values, means)\n",
      "    if log_scale:\n",
      "        xscale('log')\n",
      "    xlabel(parameter_name)\n",
      "    ylabel('Quality')"
     ],
     "language": "python",
     "metadata": {},
     "outputs": [],
     "prompt_number": 21
    },
    {
     "cell_type": "markdown",
     "metadata": {},
     "source": [
      "\u0412\u0438\u0437\u0443\u0430\u043b\u0438\u0437\u0438\u0440\u0443\u0435\u043c \u043a\u0430\u0447\u0435\u0441\u0442\u0432\u043e \u0440\u0430\u0431\u043e\u0442\u044b \u0430\u043b\u0433\u043e\u0440\u0438\u0442\u043c\u0430 \u0432 \u0437\u0430\u0432\u0438\u0441\u0438\u043c\u043e\u0441\u0442\u0438 \u043e\u0442 \u0447\u0438\u0441\u043b\u0430 \u0441\u043e\u0441\u0435\u0434\u0435\u0439 k"
     ]
    },
    {
     "cell_type": "code",
     "collapsed": false,
     "input": [
      "plot_grid_searcher_results(grid_searcher, log_scale=True)"
     ],
     "language": "python",
     "metadata": {},
     "outputs": [
      {
       "output_type": "stream",
       "stream": "stdout",
       "text": [
        "[ 0.29537825  0.29537825]\n",
        "[ 0.29537825  0.29537825]\n",
        "[ 0.27893151  0.27893151]\n",
        "[ 0.17915471  0.17915471]\n",
        "[ 0.12365653  0.12365653]\n",
        "[ 0.0815261  0.0815261]\n",
        "[ 0.04698795  0.04698795]\n",
        "[ 0.03012048  0.03012048]\n",
        "[ 0.  0.]\n",
        "[ 0.  0.]\n"
       ]
      },
      {
       "metadata": {},
       "output_type": "display_data",
       "png": "[encoded data removed]",
       "text": [
        "<matplotlib.figure.Figure at 0x10be0dfd0>"
       ]
      }
     ],
     "prompt_number": 22
    },
    {
     "cell_type": "markdown",
     "metadata": {},
     "source": [
      "\u0412\u0438\u0434\u043d\u043e, \u0447\u0442\u043e \u043e\u043f\u0442\u0438\u043c\u0443\u043c \u0434\u043e\u0441\u0442\u0438\u0433\u0430\u0435\u0442\u0441\u044f \u043f\u0440\u0438 \u043c\u0430\u043b\u043e\u043c \u0447\u0438\u0441\u043b\u0435 \u0441\u043e\u0441\u0435\u0434\u0435\u0439. \u041f\u043e\u0441\u043c\u043e\u0442\u0440\u0438\u043c  \u0431\u043b\u0438\u0436\u0435 \u043d\u0430 \u0438\u043d\u0442\u0435\u0440\u0435\u0441\u0443\u044e\u0449\u0438\u0439 \u043d\u0430\u0441 \u043a\u0443\u0441\u043e\u043a \u0433\u0440\u0430\u0444\u0438\u043a\u0430."
     ]
    },
    {
     "cell_type": "code",
     "collapsed": false,
     "input": [
      "grid_searcher = GridSearchCV(\n",
      "        estimator=BaselineKnnClassifier(),\n",
      "        param_grid={'k': range(1, 10)},\n",
      "        scoring=make_scorer(f1_score, average='samples'),\n",
      "        cv=2,\n",
      ")\n",
      "\n",
      "grid_searcher.fit(X_train, y_train)\n",
      "plot_grid_searcher_results(grid_searcher, log_scale=False)"
     ],
     "language": "python",
     "metadata": {},
     "outputs": [
      {
       "output_type": "stream",
       "stream": "stdout",
       "text": [
        "[ 0.29537825  0.29537825]\n",
        "[ 0.29537825  0.29537825]\n",
        "[ 0.26260279  0.26260279]\n",
        "[ 0.27893151  0.27893151]\n",
        "[ 0.25013648  0.25013648]\n",
        "[ 0.26884942  0.26884942]\n",
        "[ 0.22175368  0.22175368]\n",
        "[ 0.21676229  0.21676229]\n",
        "[ 0.19559189  0.19559189]\n"
       ]
      },
      {
       "metadata": {},
       "output_type": "display_data",
       "png": "[encoded data removed]",
       "text": [
        "<matplotlib.figure.Figure at 0x10be0fed0>"
       ]
      }
     ],
     "prompt_number": 23
    },
    {
     "cell_type": "markdown",
     "metadata": {},
     "source": [
      "\u0411\u043e\u043b\u0435\u0435-\u043c\u0435\u043d\u0435\u0435 \u0432\u0438\u0434\u043d\u043e, \u0447\u0442\u043e \u043e\u043f\u0442\u0438\u043c\u0443\u043c \u0434\u043e\u0441\u0442\u0438\u0433\u0430\u0435\u0442\u0441\u044f \u043f\u0440\u0438 k=1."
     ]
    },
    {
     "cell_type": "markdown",
     "metadata": {},
     "source": [
      "\u041e\u0431\u0443\u0447\u0438\u043c\u0441\u044f \u043d\u0430 \u043f\u0440\u043e\u0438\u0437\u0432\u043e\u043b\u044c\u043d\u043e\u0439 \u0442\u0440\u0435\u0442\u0438 \u043e\u0431\u044a\u0435\u043a\u0442\u043e\u0432 (\u0447\u0442\u043e\u0431\u044b \u0441\u043e\u043a\u0440\u0430\u0442\u0438\u0442\u044c \u0432\u0440\u0435\u043c\u044f \u043e\u0431\u0443\u0447\u0435\u043d\u0438\u044f) \u0438 \u0441\u043e\u0445\u0440\u0430\u043d\u0438\u043c \u0440\u0435\u0437\u0443\u043b\u044c\u0442\u0430\u0442 \u0432 \u0444\u0430\u0439\u043b."
     ]
    },
    {
     "cell_type": "code",
     "collapsed": false,
     "input": [
      "from sklearn.cross_validation import train_test_split\n",
      "\n",
      "X_train_sampled, _, y_train_sampled, _ = train_test_split(X_train, y_train, test_size=0.66, random_state=0)\n",
      "print X_train_sampled.shape\n",
      "print y_train_sampled.shape\n",
      "\n",
      "clf = BaselineKnnClassifier(k=1, n_jobs=3)\n",
      "clf.fit(X_train_sampled, y_train_sampled)\n",
      "y_test_knn = clf.predict(X_test)\n",
      "write_labels_to_file(y_test_knn, 'y_test_knn.csv')"
     ],
     "language": "python",
     "metadata": {},
     "outputs": [
      {
       "output_type": "stream",
       "stream": "stdout",
       "text": [
        "(3400, 25640)\n",
        "(3400, 83)\n"
       ]
      },
      {
       "output_type": "stream",
       "stream": "stderr",
       "text": [
        "/usr/local/Cellar/python/2.7.6/Frameworks/Python.framework/Versions/2.7/lib/python2.7/site-packages/sklearn/multiclass.py:57: UserWarning: Label not 76 is present in all training examples.\n",
        "  str(classes[c]))\n"
       ]
      }
     ],
     "prompt_number": 8
    },
    {
     "cell_type": "markdown",
     "metadata": {},
     "source": [
      "\u041f\u043e\u0441\u043a\u043e\u043b\u044c\u043a\u0443 \u0431\u044b\u043b\u0438 \u0438\u0441\u043f\u043e\u043b\u044c\u0437\u043e\u0432\u0430\u043d\u044b \u043d\u0435 \u0432\u0441\u0435 \u0434\u0430\u043d\u043d\u044b\u0435, sklearn \u0440\u0443\u0433\u0430\u0435\u0442\u0441\u044f, \u0447\u0442\u043e \u0432 \u043e\u0431\u0443\u0447\u0435\u043d\u0438\u0438 \u0437\u043d\u0430\u0447\u0435\u043d\u0438\u0435 \u043a\u0430\u043a\u043e\u0439-\u0442\u043e \u0440\u0435\u0434\u043a\u043e\u0439 \u043c\u0435\u0442\u043a\u0438 \u0432\u0441\u0435\u0433\u0434\u0430 \u0440\u0430\u0432\u043d\u043e \u043d\u0443\u043b\u044e :)"
     ]
    },
    {
     "cell_type": "heading",
     "level": 2,
     "metadata": {},
     "source": [
      "SVM baseline"
     ]
    },
    {
     "cell_type": "markdown",
     "metadata": {},
     "source": [
      "\u041e\u0431\u0435\u0440\u0442\u043a\u0430 \u0434\u043b\u044f \u043e\u0431\u0443\u0447\u0435\u043d\u0438\u044f \u043b\u0438\u043d\u0435\u0439\u043d\u043e\u0433\u043e SVM"
     ]
    },
    {
     "cell_type": "code",
     "collapsed": false,
     "input": [
      "from sklearn.svm import LinearSVC\n",
      "\n",
      "class BaselineLinearClassifier(BaseEstimator, ClassifierMixin):\n",
      "    def __init__(self, C=1.0, n_jobs=1):\n",
      "        self.C = C\n",
      "        self.n_jobs = n_jobs\n",
      "    \n",
      "    def fit(self, X, y):\n",
      "        self.clf = OneVsRestClassifier(LinearSVC(C=self.C), self.n_jobs)\n",
      "        self.clf.fit(X, y)\n",
      "    \n",
      "    def predict(self, X):\n",
      "        return self.clf.predict(X)"
     ],
     "language": "python",
     "metadata": {},
     "outputs": [],
     "prompt_number": 29
    },
    {
     "cell_type": "markdown",
     "metadata": {},
     "source": [
      "\u041e\u0446\u0435\u043d\u0438\u043c \u043a\u0430\u0447\u0435\u0441\u0442\u0432\u043e \u0432 \u0437\u0430\u0432\u0438\u0441\u0438\u043c\u043e\u0441\u0442\u0438 \u043e\u0442 \u043f\u0430\u0440\u0430\u043c\u0435\u0442\u0440\u0430 \u0440\u0435\u0433\u0443\u043b\u044f\u0440\u0438\u0437\u0430\u0446\u0438\u0438"
     ]
    },
    {
     "cell_type": "code",
     "collapsed": false,
     "input": [
      "grid_searcher = GridSearchCV(\n",
      "        estimator=BaselineLinearClassifier(),\n",
      "        param_grid={'C': logspace(-20, 20, 8)},\n",
      "        scoring=make_scorer(f1_score, average='samples'),\n",
      "        cv=3\n",
      ")\n",
      "\n",
      "grid_searcher.fit(X_train, y_train)"
     ],
     "language": "python",
     "metadata": {},
     "outputs": [
      {
       "metadata": {},
       "output_type": "pyout",
       "prompt_number": 31,
       "text": [
        "GridSearchCV(cv=3, estimator=BaselineLinearClassifier(C=1.0, n_jobs=1),\n",
        "       fit_params={}, iid=True, loss_func=None, n_jobs=1,\n",
        "       param_grid={'C': array([  1.00000e-20,   5.17947e-15,   2.68270e-09,   1.38950e-03,\n",
        "         7.19686e+02,   3.72759e+08,   1.93070e+14,   1.00000e+20])},\n",
        "       pre_dispatch='2*n_jobs', refit=True, score_func=None,\n",
        "       scoring=make_scorer(f1_score, average=samples), verbose=0)"
       ]
      }
     ],
     "prompt_number": 31
    },
    {
     "cell_type": "markdown",
     "metadata": {},
     "source": [
      "\u0412\u0438\u0437\u0443\u0430\u043b\u0438\u0437\u0438\u0440\u0443\u0435\u043c \u0437\u0430\u0432\u0438\u0441\u0438\u043c\u043e\u0441\u0442\u044c \u043a\u0430\u0447\u0435\u0441\u0442\u0432\u0430 \u043e\u0442 \u0440\u0435\u0433\u0443\u043b\u044f\u0440\u0438\u0437\u0430\u0446\u0438\u0438"
     ]
    },
    {
     "cell_type": "code",
     "collapsed": false,
     "input": [
      "plot_grid_searcher_results(grid_searcher, log_scale=True)"
     ],
     "language": "python",
     "metadata": {},
     "outputs": [
      {
       "output_type": "stream",
       "stream": "stdout",
       "text": [
        "[ 0.06787149  0.06787149  0.06787149]\n",
        "[ 0.06787149  0.06787149  0.06787149]\n",
        "[ 0.06787149  0.06787149  0.06787149]\n",
        "[ 0.39678735  0.39678735  0.39678735]\n",
        "[ 0.39877378  0.39877378  0.39877378]\n",
        "[ 0.39877378  0.39877378  0.39877378]\n",
        "[ 0.39877378  0.39877378  0.39877378]\n",
        "[ 0.39877378  0.39877378  0.39877378]\n"
       ]
      },
      {
       "metadata": {},
       "output_type": "display_data",
       "png": "[encoded data removed]",
       "text": [
        "<matplotlib.figure.Figure at 0x10a080390>"
       ]
      }
     ],
     "prompt_number": 32
    },
    {
     "cell_type": "markdown",
     "metadata": {},
     "source": [
      "\u0412\u0438\u0434\u043d\u043e, \u0447\u0442\u043e \u043d\u0430\u0438\u0431\u043e\u043b\u0435\u0435 \u0443\u0434\u0430\u0447\u043d\u044b\u043c \u043e\u043a\u0430\u0437\u044b\u0432\u0430\u0435\u0442\u0441\u044f \u0437\u043d\u0430\u0447\u0435\u043d\u0438\u0435 $C>1000$. \u041e\u0431\u0443\u0447\u0438\u043c \u043a\u043b\u0430\u0441\u0441\u0438\u0444\u0438\u043a\u0430\u0442\u043e\u0440 \u043d\u0430 \u0432\u0441\u0435\u0445 \u0434\u0430\u043d\u043d\u044b\u0445 \u0438 \u0441\u043e\u0445\u0440\u0430\u043d\u0438\u043c \u0440\u0435\u0437\u0443\u043b\u044c\u0442\u0430\u0442 \u0432 \u0444\u0430\u0439\u043b."
     ]
    },
    {
     "cell_type": "code",
     "collapsed": false,
     "input": [
      "clf = BaselineLinearClassifier(C=1000, n_jobs=3)\n",
      "clf.fit(X_train, y_train)\n",
      "y_test_svm = clf.predict(X_test)\n",
      "write_labels_to_file(y_test_svm, 'y_test_svm.csv')"
     ],
     "language": "python",
     "metadata": {},
     "outputs": [],
     "prompt_number": 33
    }
   ],
   "metadata": {}
  }
 ]
}