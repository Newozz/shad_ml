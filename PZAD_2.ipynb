{
 "metadata": {
  "name": "PZAD_2"
 },
 "nbformat": 3,
 "nbformat_minor": 0,
 "worksheets": [
  {
   "cells": [
    {
     "cell_type": "heading",
     "level": 1,
     "metadata": {},
     "source": [
      "\u041e\u0442\u0447\u0435\u0442 \u043f\u043e \u0432\u0442\u043e\u0440\u043e\u043c\u0443 \u0434\u043e\u043c\u0430\u0448\u043d\u0435\u043c\u0443 \u0437\u0430\u0434\u0430\u043d\u0438\u044e \u041f\u0417\u0410\u0414"
     ]
    },
    {
     "cell_type": "markdown",
     "metadata": {},
     "source": [
      "\u0424\u043e\u043d\u0430\u0440\u0435\u0432 \u0410\u043b\u0435\u043a\u0441\u0430\u043d\u0434\u0440 \u042e\u0440\u044c\u0435\u0432\u0438\u0447, 517 \u0433\u0440\u0443\u043f\u043f\u0430."
     ]
    },
    {
     "cell_type": "markdown",
     "metadata": {},
     "source": [
      "\u041d\u0438\u0436\u0435 \u043f\u0440\u0435\u0434\u0441\u0442\u0430\u0432\u043b\u0435\u043d \u043a\u0440\u0430\u0442\u043a\u0438\u0439 \u043e\u0442\u0447\u0435\u0442 \u043f\u043e \u043c\u043e\u0438\u043c \u0434\u0435\u0439\u0441\u0442\u0432\u0438\u044f\u043c \u0434\u043b\u044f \u0440\u0435\u0448\u0435\u043d\u0438\u044f \u0432\u0442\u043e\u0440\u043e\u0433\u043e \u0434\u043e\u043c\u0430\u0448\u043d\u0435\u0433\u043e \u0437\u0430\u0434\u0430\u043d\u0438\u044f."
     ]
    },
    {
     "cell_type": "code",
     "collapsed": false,
     "input": [
      "import numpy as np\n",
      "import pylab as pl\n",
      "import pandas as pd"
     ],
     "language": "python",
     "metadata": {},
     "outputs": [],
     "prompt_number": 1
    },
    {
     "cell_type": "markdown",
     "metadata": {},
     "source": [
      "\u041e\u0441\u043d\u043e\u0432\u043d\u0430\u044f \u0441\u043b\u043e\u0436\u043d\u043e\u0441\u0442\u044c \u0437\u0434\u0435\u0441\u044c - \u043f\u0440\u0430\u0432\u0438\u043b\u044c\u043d\u043e\u0435 \u0441\u0447\u0438\u0442\u044b\u0432\u0430\u043d\u0438\u0435 \u0438 \u0445\u0440\u0430\u043d\u0435\u043d\u0438\u0435 \u0434\u0430\u043d\u043d\u044b\u0445. \u0425\u043e\u0442\u0435\u043b\u043e\u0441\u044c \u0431\u044b \u043d\u0430 \u043f\u0440\u0438\u043c\u0435\u0440\u0435 \u0437\u0430\u0434\u0430\u0447\u0438 \u0438\u0437\u0443\u0447\u0438\u0442\u044c \u0441\u0440\u0435\u0434\u0441\u0442\u0432\u0430 \u0431\u0438\u0431\u043b\u0438\u043e\u0442\u0435\u043a\u0438 pandas \u0434\u043b\u044f \u044d\u0442\u043e\u0439 \u0437\u0430\u0434\u0430\u0447\u0438. \u0421\u043d\u0430\u0447\u0430\u043b\u0430 \u0441\u0447\u0438\u0442\u0430\u0435\u043c \u0438\u0441\u0445\u043e\u0434\u043d\u044b\u0439 \u0444\u0430\u0439\u043b, \u043f\u0440\u0438\u0432\u0435\u0434\u0435\u043d\u043d\u044b\u0439 \u043a \u0444\u043e\u0440\u043c\u0430\u0442\u0443 csv \u0438 \u0431\u0435\u0437 \u0434\u0432\u0443\u0445 \u0432\u0435\u0440\u0445\u043d\u0438\u0445 \u0441\u0442\u0440\u043e\u043a."
     ]
    },
    {
     "cell_type": "code",
     "collapsed": false,
     "input": [
      "df = pd.read_csv('data1.csv')\n",
      "df = df.replace('N/A', np.nan)"
     ],
     "language": "python",
     "metadata": {},
     "outputs": [],
     "prompt_number": 246
    },
    {
     "cell_type": "markdown",
     "metadata": {},
     "source": [
      "\u041d\u0430\u043f\u0440\u0438\u043c\u0435\u0440, \u043c\u043e\u0436\u043d\u043e \u043f\u043e\u0441\u043c\u043e\u0442\u0440\u0435\u0442\u044c \u043d\u0430 \u043d\u0435\u0431\u043e\u043b\u044c\u0448\u043e\u0439 \u043a\u0443\u0441\u043e\u0447\u0435\u043a \u0434\u0430\u043d\u043d\u044b\u0445."
     ]
    },
    {
     "cell_type": "code",
     "collapsed": false,
     "input": [
      "print df[30:40]"
     ],
     "language": "python",
     "metadata": {},
     "outputs": [
      {
       "output_type": "stream",
       "stream": "stdout",
       "text": [
        "                       PROJECT          SECTOR PE_FLOW  Q     Y          IS  \\\n",
        "30                   sravni.ru  Other services   8,784  1  2009      14,083   \n",
        "31                  TravelTipz  Travel service   8,784  1  2009         NaN   \n",
        "32                       RuMix  Other services   8,784  1  2009     300,000   \n",
        "33                   Playnatic           Games   8,784  1  2009  20,000,000   \n",
        "34                Golos Dorogi    Social media   8,784  1  2009     200,000   \n",
        "35  Cheap and Daily (Darberry)       eCommerce   8,784  1  2009         NaN   \n",
        "36               Business3.biz        Software  10,275  2  2009     550,000   \n",
        "37                   Blondinka  Other services  10,275  2  2009     350,000   \n",
        "38                         RBC    Social media  11,883  3  2009  80,000,000   \n",
        "39                   MiniBanda  Other services  11,883  3  2009      50,000   \n",
        "\n",
        "         FT             Inv_1 Inv_2 Inv_3 Inv_4 Inv_5  Q.1   Y.1        IS.1  \\\n",
        "30     Seed  Private Investor   NaN   NaN   NaN   NaN  NaN   NaN         NaN   \n",
        "31     Seed               NaN   NaN   NaN   NaN   NaN  NaN   NaN         NaN   \n",
        "32     Seed        AddVenture   NaN   NaN   NaN   NaN  NaN   NaN         NaN   \n",
        "33  Venture       Parta Group   NaN   NaN   NaN   NaN    1  2010  10,000,000   \n",
        "34     Seed            IQ One   NaN   NaN   NaN   NaN  NaN   NaN         NaN   \n",
        "35     Seed        AddVenture   NaN   NaN   NaN   NaN  NaN   NaN         NaN   \n",
        "36  Venture     Business3.biz   NaN   NaN   NaN   NaN  NaN   NaN         NaN   \n",
        "37  Venture    Index Ventures   NaN   NaN   NaN   NaN  NaN   NaN         NaN   \n",
        "38      NaN               NaN   NaN   NaN   NaN   NaN  NaN   NaN         NaN   \n",
        "39     Seed        AddVenture   NaN   NaN   NaN   NaN  NaN   NaN         NaN   \n",
        "\n",
        "       FT.1      Inv_1.1 Inv_2.1 Inv_3.1 Inv_4.1  Q.2  Y.2 IS.2 FT.2 Inv_1.2  \\\n",
        "30      NaN          NaN     NaN     NaN     NaN  NaN  NaN  NaN  NaN     NaN   \n",
        "31      NaN          NaN     NaN     NaN     NaN  NaN  NaN  NaN  NaN     NaN   \n",
        "32      NaN          NaN     NaN     NaN     NaN  NaN  NaN  NaN  NaN     NaN   \n",
        "33  Venture  Parta Group     NaN     NaN     NaN  NaN  NaN  NaN  NaN     NaN   \n",
        "34      NaN          NaN     NaN     NaN     NaN  NaN  NaN  NaN  NaN     NaN   \n",
        "35      NaN          NaN     NaN     NaN     NaN  NaN  NaN  NaN  NaN     NaN   \n",
        "36      NaN          NaN     NaN     NaN     NaN  NaN  NaN  NaN  NaN     NaN   \n",
        "37      NaN          NaN     NaN     NaN     NaN  NaN  NaN  NaN  NaN     NaN   \n",
        "38      NaN          NaN     NaN     NaN     NaN  NaN  NaN  NaN  NaN     NaN   \n",
        "39      NaN          NaN     NaN     NaN     NaN  NaN  NaN  NaN  NaN     NaN   \n",
        "\n",
        "   Inv_2.2 Inv_3.2 Inv_4.2 Inv_5.1 Inv_6  Q.3  Y.3 IS.3 FT.3 Inv_1.3  Q.4  \\\n",
        "30     NaN     NaN     NaN     NaN   NaN  NaN  NaN  NaN  NaN     NaN  NaN   \n",
        "31     NaN     NaN     NaN     NaN   NaN  NaN  NaN  NaN  NaN     NaN  NaN   \n",
        "32     NaN     NaN     NaN     NaN   NaN  NaN  NaN  NaN  NaN     NaN  NaN   \n",
        "33     NaN     NaN     NaN     NaN   NaN  NaN  NaN  NaN  NaN     NaN  NaN   \n",
        "34     NaN     NaN     NaN     NaN   NaN  NaN  NaN  NaN  NaN     NaN  NaN   \n",
        "35     NaN     NaN     NaN     NaN   NaN  NaN  NaN  NaN  NaN     NaN  NaN   \n",
        "36     NaN     NaN     NaN     NaN   NaN  NaN  NaN  NaN  NaN     NaN  NaN   \n",
        "37     NaN     NaN     NaN     NaN   NaN  NaN  NaN  NaN  NaN     NaN  NaN   \n",
        "38     NaN     NaN     NaN     NaN   NaN  NaN  NaN  NaN  NaN     NaN  NaN   \n",
        "39     NaN     NaN     NaN     NaN   NaN  NaN  NaN  NaN  NaN     NaN  NaN   \n",
        "\n",
        "    Y.4 IS.4 FT.4 Inv_1.4 Inv_2.3  Q.5  Y.5 IS.5 FT.5 Inv_1.5  Q.6  Y.6 IS.6  \\\n",
        "30  NaN  NaN  NaN     NaN     NaN  NaN  NaN  NaN  NaN     NaN  NaN  NaN  NaN   \n",
        "31  NaN  NaN  NaN     NaN     NaN  NaN  NaN  NaN  NaN     NaN  NaN  NaN  NaN   \n",
        "32  NaN  NaN  NaN     NaN     NaN  NaN  NaN  NaN  NaN     NaN  NaN  NaN  NaN   \n",
        "33  NaN  NaN  NaN     NaN     NaN  NaN  NaN  NaN  NaN     NaN  NaN  NaN  NaN   \n",
        "34  NaN  NaN  NaN     NaN     NaN  NaN  NaN  NaN  NaN     NaN  NaN  NaN  NaN   \n",
        "35  NaN  NaN  NaN     NaN     NaN  NaN  NaN  NaN  NaN     NaN  NaN  NaN  NaN   \n",
        "36  NaN  NaN  NaN     NaN     NaN  NaN  NaN  NaN  NaN     NaN  NaN  NaN  NaN   \n",
        "37  NaN  NaN  NaN     NaN     NaN  NaN  NaN  NaN  NaN     NaN  NaN  NaN  NaN   \n",
        "38  NaN  NaN  NaN     NaN     NaN  NaN  NaN  NaN  NaN     NaN  NaN  NaN  NaN   \n",
        "39  NaN  NaN  NaN     NaN     NaN  NaN  NaN  NaN  NaN     NaN  NaN  NaN  NaN   \n",
        "\n",
        "   FT.6 Inv_1.6  Q.7  Y.7 IS.7 FT.7 Inv_1.7  Q.8  Y.8 IS.8 FT.8 Inv_1.8  \n",
        "30  NaN     NaN  NaN  NaN  NaN  NaN     NaN  NaN  NaN  NaN  NaN     NaN  \n",
        "31  NaN     NaN  NaN  NaN  NaN  NaN     NaN  NaN  NaN  NaN  NaN     NaN  \n",
        "32  NaN     NaN  NaN  NaN  NaN  NaN     NaN  NaN  NaN  NaN  NaN     NaN  \n",
        "33  NaN     NaN  NaN  NaN  NaN  NaN     NaN  NaN  NaN  NaN  NaN     NaN  \n",
        "34  NaN     NaN  NaN  NaN  NaN  NaN     NaN  NaN  NaN  NaN  NaN     NaN  \n",
        "35  NaN     NaN  NaN  NaN  NaN  NaN     NaN  NaN  NaN  NaN  NaN     NaN  \n",
        "36  NaN     NaN  NaN  NaN  NaN  NaN     NaN  NaN  NaN  NaN  NaN     NaN  \n",
        "37  NaN     NaN  NaN  NaN  NaN  NaN     NaN  NaN  NaN  NaN  NaN     NaN  \n",
        "38  NaN     NaN  NaN  NaN  NaN  NaN     NaN  NaN  NaN  NaN  NaN     NaN  \n",
        "39  NaN     NaN  NaN  NaN  NaN  NaN     NaN  NaN  NaN  NaN  NaN     NaN  \n"
       ]
      }
     ],
     "prompt_number": 247
    },
    {
     "cell_type": "markdown",
     "metadata": {},
     "source": [
      "\u0412 \u043e\u0434\u043d\u0443 \u0438 \u0442\u0443 \u0436\u0435 \u043a\u043e\u043c\u043f\u0430\u043d\u0438\u044e \u043c\u043e\u0433\u043b\u0438 \u0432\u043a\u043b\u0430\u0434\u044b\u0432\u0430\u0442\u044c \u0434\u0435\u043d\u044c\u0433\u0438 \u0432 \u0440\u0430\u0437\u043d\u043e\u0435 \u0432\u0440\u0435\u043c\u044f. \u0412\u043e \u0432\u0445\u043e\u0434\u043d\u043e\u043c \u0444\u0430\u0439\u043b\u0435 \u044d\u0442\u043e \u0437\u0430\u043f\u0438\u0441\u044b\u0432\u0430\u0435\u0442\u0441\u044f \u043e\u0434\u043d\u043e\u0439 \u0441\u0442\u0440\u043e\u043a\u043e\u0439. \u0423\u0434\u043e\u0431\u043d\u0435\u0435 \u0431\u044b\u043b\u043e \u0431\u044b \u0440\u0430\u0437\u0432\u0435\u0440\u043d\u0443\u0442\u044c \u044d\u0442\u0438 \u0434\u0430\u043d\u043d\u044b\u0435 \u0432 \u043e\u0434\u0438\u043d \u0440\u044f\u0434 \u0432 \u0437\u0430\u0432\u0438\u0441\u0438\u043c\u043e\u0441\u0442\u0438 \u043e\u0442 \u0432\u0440\u0435\u043c\u0435\u043d\u0438. \u042d\u0442\u043e \u0438 \u043d\u0435 \u0442\u043e\u043b\u044c\u043a\u043e \u0434\u0435\u043b\u0430\u0435\u043c \u043d\u0438\u0436\u0435\u0443\u043a\u0430\u0437\u0430\u043d\u043d\u044b\u0439 \u043a\u043e\u0434."
     ]
    },
    {
     "cell_type": "code",
     "collapsed": false,
     "input": [
      "col_prefixes = ['PROJECT', 'SECTOR', 'PE_FLOW', 'Q', 'Y', 'IS', 'FT', 'Inv_1', 'Inv_2', 'Inv_3', 'Inv_4']\n",
      "result_df = df.loc[:, col_prefixes]\n",
      "for i in range(1, 8):\n",
      "    print i\n",
      "    col_names = col_prefixes[:]\n",
      "    col_names[3:] = [name + '.' + str(i) for name in col_names[3:]]\n",
      "    for col_name in col_names:\n",
      "        if not col_name in df:\n",
      "            df[col_name] = np.nan\n",
      "    new_df = df.loc[:, col_names]\n",
      "    new_df.rename(columns=dict(zip(col_names, col_prefixes)), inplace=True)\n",
      "    new_df.rename(columns=lambda s: s[:-2] if s.find('.') != -1 else s, inplace=True)\n",
      "    #print result_df[:5]\n",
      "    #print new_df[:5]\n",
      "    result_df = pd.concat([result_df, new_df], ignore_index=True)\n",
      "print result_df[-10:]\n",
      "result_df = result_df.dropna(how='all', axis=0, subset=['PE_FLOW', 'Q', 'Y', 'IS', 'FT', 'Inv_1', 'Inv_2', 'Inv3', 'Inv_4'])\n",
      "result_df = result_df.dropna(axis=0, subset=['IS'])\n",
      "result_df = result_df.replace(np.nan, 0)\n",
      "print result_df[-10:]"
     ],
     "language": "python",
     "metadata": {},
     "outputs": [
      {
       "output_type": "stream",
       "stream": "stdout",
       "text": [
        "1\n",
        "2\n",
        "3\n",
        "4\n",
        "5"
       ]
      },
      {
       "output_type": "stream",
       "stream": "stdout",
       "text": [
        "\n",
        "6\n",
        "7\n",
        "                     PROJECT             SECTOR PE_FLOW    Q   Y   IS   FT  \\\n",
        "4694        Zephyr solutions     Other services     NaN  NaN NaN  NaN  NaN   \n",
        "4695                 Clifton   Nanotechnologies     NaN  NaN NaN  NaN  NaN   \n",
        "4696                Centiece   Nanotechnologies     NaN  NaN NaN  NaN  NaN   \n",
        "4697  Nano Meta Technologies   Nanotechnologies     NaN  NaN NaN  NaN  NaN   \n",
        "4698              WeStudy.In  Education service     NaN  NaN NaN  NaN  NaN   \n",
        "4699               BubbleGab     Other services     NaN  NaN NaN  NaN  NaN   \n",
        "4700                  Frolik     Other services     NaN  NaN NaN  NaN  NaN   \n",
        "4701              Global lab          eCommerce     NaN  NaN NaN  NaN  NaN   \n",
        "4702                  Lamoda          eCommerce     NaN  NaN NaN  NaN  NaN   \n",
        "4703               Travelata     Travel service     NaN  NaN NaN  NaN  NaN   \n",
        "\n",
        "     Inv_1 Inv_2 Inv_3 Inv_4  \n",
        "4694   NaN   NaN   NaN   NaN  \n",
        "4695   NaN   NaN   NaN   NaN  \n",
        "4696   NaN   NaN   NaN   NaN  \n",
        "4697   NaN   NaN   NaN   NaN  \n",
        "4698   NaN   NaN   NaN   NaN  \n",
        "4699   NaN   NaN   NaN   NaN  \n",
        "4700   NaN   NaN   NaN   NaN  \n",
        "4701   NaN   NaN   NaN   NaN  \n",
        "4702   NaN   NaN   NaN   NaN  \n",
        "4703   NaN   NaN   NaN   NaN  "
       ]
      },
      {
       "output_type": "stream",
       "stream": "stdout",
       "text": [
        "\n",
        "          PROJECT                 SECTOR PE_FLOW  Q     Y           IS  \\\n",
        "1517    ClipClock  TV and Video services  12,871  4  2012    2,500,000   \n",
        "1777      KupiVIP              eCommerce  22,257  4  2012   15,500,000   \n",
        "1787     Evernote         Other services       0  0  2012  100,000,000   \n",
        "1817       Sapato              eCommerce   8,153  1  2012   60,000,000   \n",
        "1862    LinguaLeo      Education service  16,024  2  2012    3,000,000   \n",
        "1952  RealSpeaker               Software  11,597  2  2012        3,300   \n",
        "2540  RealSpeaker               Software  11,597  3  2012      160,000   \n",
        "3128  RealSpeaker               Software  11,597  3  2012       16,700   \n",
        "3716  RealSpeaker               Software  11,597  4  2012       10,000   \n",
        "4304  RealSpeaker               Software  11,597  4  2012       16,700   \n",
        "\n",
        "             FT                      Inv_1             Inv_2 Inv_3 Inv_4  \n",
        "1517    Venture               Runa Capital                 0     0     0  \n",
        "1777  Mezzanine             MCI Management                 0     0     0  \n",
        "1787  Mezzanine  Meritech Capital Pertners                 0     0     0  \n",
        "1817    Venture                       Ozon                 0     0     0  \n",
        "1862    Venture               Runa Capital                 0     0     0  \n",
        "1952        M&A    Russian Venture Company  Private Investor     0     0  \n",
        "2540        M&A                   Skolkovo                 0     0     0  \n",
        "3128        M&A                     AIR RT                 0     0     0  \n",
        "3716        M&A                          0                 0     0     0  \n",
        "4304     Grants             Zworykin Prize                 0     0     0  "
       ]
      },
      {
       "output_type": "stream",
       "stream": "stdout",
       "text": [
        "\n"
       ]
      }
     ],
     "prompt_number": 255
    },
    {
     "cell_type": "markdown",
     "metadata": {},
     "source": [
      "\u0422\u0430\u043a\u0436\u0435 \u043d\u0430\u0434\u043e \u0438\u0437\u0431\u0430\u0432\u0438\u0442\u044c\u0441\u044f \u043e\u0442 \u043a\u0430\u0442\u0435\u0433\u043e\u0440\u0438\u0430\u043b\u044c\u043d\u044b\u0445 \u043f\u0440\u0438\u0437\u043d\u0430\u043a\u043e\u0432. \u041d\u0430\u0438\u0431\u043e\u043b\u0435\u0435 \u043f\u0440\u043e\u0441\u0442\u043e\u0439 \u0441\u043f\u043e\u0441\u043e\u0431 - dummy \u043a\u043e\u0434\u0438\u0440\u043e\u0432\u0430\u043d\u0438\u0435."
     ]
    },
    {
     "cell_type": "code",
     "collapsed": false,
     "input": [
      "from copy import deepcopy\n",
      "def get_binarized_data(df, categorical_columns):\n",
      "    binary_df = deepcopy(df)\n",
      "    for column in categorical_columns:\n",
      "        binary_df = pd.concat([binary_df, pd.get_dummies(binary_df[column], prefix=column, prefix_sep=': ')], axis=1)\n",
      "        del binary_df[column]\n",
      "    return binary_df\n",
      "\n",
      "result_df = get_binarized_data(result_df, ['PROJECT', 'SECTOR', 'FT', 'Q', 'Y', 'Inv_1', 'Inv_2', 'Inv_3', 'Inv_4'])\n",
      "\n",
      "print result_df"
     ],
     "language": "python",
     "metadata": {},
     "outputs": [
      {
       "output_type": "stream",
       "stream": "stdout",
       "text": [
        "<class 'pandas.core.frame.DataFrame'>\n",
        "Int64Index: 460 entries, 1 to 4304\n",
        "Columns: 657 entries, PE_FLOW to Inv_4: Yandex\n",
        "dtypes: float64(655), object(2)\n"
       ]
      }
     ],
     "prompt_number": 256
    },
    {
     "cell_type": "markdown",
     "metadata": {},
     "source": [
      "\u0420\u0430\u0437\u043e\u0431\u044c\u0435\u043c \u0434\u0430\u043d\u043d\u044b\u0435 \u043d\u0430 \u043e\u0431\u0443\u0447\u0435\u043d\u0438\u0435 \u0438 \u043a\u043e\u043d\u0442\u0440\u043e\u043b\u044c."
     ]
    },
    {
     "cell_type": "code",
     "collapsed": false,
     "input": [
      "result_df = result_df.applymap(lambda x: x.replace(',', '') if type(x) == str else x)\n",
      "print data_x\n",
      "data_x = result_df.loc[:, set(result_df.columns) - {'IS'}].values.astype(np.float32)\n",
      "data_y = result_df['IS'].values.astype(np.float32)\n",
      "print data_x.shape\n",
      "print data_y.shape\n",
      "#print data_y"
     ],
     "language": "python",
     "metadata": {},
     "outputs": [
      {
       "output_type": "stream",
       "stream": "stdout",
       "text": [
        "[[ 0.  0.  0. ...,  0.  0.  0.]\n",
        " [ 0.  0.  0. ...,  0.  0.  0.]\n",
        " [ 0.  0.  0. ...,  0.  0.  0.]\n",
        " ..., \n",
        " [ 0.  0.  0. ...,  0.  0.  0.]\n",
        " [ 0.  0.  0. ...,  0.  0.  0.]\n",
        " [ 0.  0.  1. ...,  0.  0.  0.]]\n",
        "(460, 656)"
       ]
      },
      {
       "output_type": "stream",
       "stream": "stdout",
       "text": [
        "\n",
        "(460,)\n"
       ]
      }
     ],
     "prompt_number": 258
    },
    {
     "cell_type": "markdown",
     "metadata": {},
     "source": [
      "\u041d\u0430\u043f\u0438\u0448\u0435\u043c \u0444\u0443\u043d\u043a\u0446\u0438\u044e \u0434\u043b\u044f \u043e\u0446\u0435\u043d\u043a\u0438 \u043a\u0430\u0447\u0435\u0441\u0442\u0432\u0430 \u0440\u0435\u0433\u0440\u0435\u0441\u0441\u043e\u0440\u043e\u0432."
     ]
    },
    {
     "cell_type": "code",
     "collapsed": false,
     "input": [
      "from sklearn.metrics import mean_squared_error\n",
      "from sklearn.cross_validation import ShuffleSplit\n",
      "\n",
      "def score_model(x, y, clf, n_iter=10):\n",
      "    clfs = []\n",
      "    scores = []    \n",
      "    ids = ShuffleSplit(x.shape[0], n_iter=n_iter, test_size=0.1)\n",
      "    count = 0\n",
      "    for train_id, test_id in ids:\n",
      "        count += 1\n",
      "        print count\n",
      "        train_x, test_x = x[train_id, :], x[test_id, :]\n",
      "        train_y, test_y = y[train_id, :], y[test_id, :]\n",
      "\n",
      "        predicted = clf.fit(train_x, train_y).predict(test_x)\n",
      "        score = mean_squared_error(test_y.ravel(), predicted.ravel())\n",
      "        scores.append(score)\n",
      "    return scores"
     ],
     "language": "python",
     "metadata": {},
     "outputs": [],
     "prompt_number": 265
    },
    {
     "cell_type": "markdown",
     "metadata": {},
     "source": [
      "\u041f\u043e\u043f\u0440\u043e\u0431\u0443\u0435\u043c \u043e\u0431\u0443\u0447\u0430\u0442\u044c RF \u043d\u0430 \u0440\u0430\u0437\u043b\u0438\u0447\u043d\u044b\u0445 \u043f\u043e\u0434\u0432\u044b\u0431\u043e\u0440\u043a\u0430\u0445. \u0412\u0438\u0434\u043d\u043e, \u0442\u043e \u043a\u0430\u0447\u0435\u0441\u0442\u0432\u043e \u043e\u0447\u0435\u043d\u044c \u043d\u0435\u0441\u0442\u0430\u0431\u0438\u043b\u044c\u043d\u043e."
     ]
    },
    {
     "cell_type": "code",
     "collapsed": false,
     "input": [
      "from sklearn.ensemble import RandomForestRegressor\n",
      "scores = score_model(data_x, data_y, clf=RandomForestRegressor(n_estimators=30))\n",
      "pl.plot(scores)"
     ],
     "language": "python",
     "metadata": {},
     "outputs": [
      {
       "output_type": "stream",
       "stream": "stdout",
       "text": [
        "1\n",
        "2"
       ]
      },
      {
       "output_type": "stream",
       "stream": "stdout",
       "text": [
        "\n",
        "3"
       ]
      },
      {
       "output_type": "stream",
       "stream": "stdout",
       "text": [
        "\n",
        "4"
       ]
      },
      {
       "output_type": "stream",
       "stream": "stdout",
       "text": [
        "\n",
        "5"
       ]
      },
      {
       "output_type": "stream",
       "stream": "stdout",
       "text": [
        "\n",
        "6"
       ]
      },
      {
       "output_type": "stream",
       "stream": "stdout",
       "text": [
        "\n",
        "7"
       ]
      },
      {
       "output_type": "stream",
       "stream": "stdout",
       "text": [
        "\n",
        "8"
       ]
      },
      {
       "output_type": "stream",
       "stream": "stdout",
       "text": [
        "\n",
        "9"
       ]
      },
      {
       "output_type": "stream",
       "stream": "stdout",
       "text": [
        "\n",
        "10"
       ]
      },
      {
       "output_type": "stream",
       "stream": "stdout",
       "text": [
        "\n"
       ]
      },
      {
       "output_type": "pyout",
       "prompt_number": 268,
       "text": [
        "[<matplotlib.lines.Line2D at 0x10bc5ad10>]"
       ]
      },
      {
       "output_type": "display_data",
       "png": "[encoded data removed]",
       "text": [
        "<matplotlib.figure.Figure at 0x10bca5850>"
       ]
      }
     ],
     "prompt_number": 268
    },
    {
     "cell_type": "markdown",
     "metadata": {},
     "source": [
      "\u041f\u043e\u043f\u0440\u043e\u0431\u0443\u0435\u043c \u043e\u0431\u0443\u0447\u0430\u0442\u044c \u043b\u0438\u043d\u0435\u0439\u043d\u0443\u044e \u0440\u0435\u0433\u0440\u0435\u0441\u0441\u0438\u044e \u043d\u0430 \u0440\u0430\u0437\u043b\u0438\u0447\u043d\u044b\u0445 \u043f\u043e\u0434\u0432\u044b\u0431\u043e\u0440\u043a\u0430\u0445."
     ]
    },
    {
     "cell_type": "code",
     "collapsed": false,
     "input": [
      "from sklearn.linear_model import Ridge\n",
      "for i, alpha in enumerate([0.1, 1, 10, 100, 1000]):\n",
      "    print 'alpha', alpha\n",
      "    scores = score_model(data_x, data_y, clf=Ridge(alpha=alpha))\n",
      "    #pl.subplot2grid((5, 1), (i, 0))\n",
      "    pl.plot(scores, label='alpha = ' + str(alpha))\n",
      "pl.legend()"
     ],
     "language": "python",
     "metadata": {},
     "outputs": [
      {
       "output_type": "stream",
       "stream": "stdout",
       "text": [
        "alpha 0.1\n",
        "1\n",
        "2"
       ]
      },
      {
       "output_type": "stream",
       "stream": "stdout",
       "text": [
        "\n",
        "3"
       ]
      },
      {
       "output_type": "stream",
       "stream": "stdout",
       "text": [
        "\n",
        "4"
       ]
      },
      {
       "output_type": "stream",
       "stream": "stdout",
       "text": [
        "\n",
        "5"
       ]
      },
      {
       "output_type": "stream",
       "stream": "stdout",
       "text": [
        "\n",
        "6"
       ]
      },
      {
       "output_type": "stream",
       "stream": "stdout",
       "text": [
        "\n",
        "7"
       ]
      },
      {
       "output_type": "stream",
       "stream": "stdout",
       "text": [
        "\n",
        "8"
       ]
      },
      {
       "output_type": "stream",
       "stream": "stdout",
       "text": [
        "\n",
        "9"
       ]
      },
      {
       "output_type": "stream",
       "stream": "stdout",
       "text": [
        "\n",
        "10"
       ]
      },
      {
       "output_type": "stream",
       "stream": "stdout",
       "text": [
        "\n",
        "alpha"
       ]
      },
      {
       "output_type": "stream",
       "stream": "stdout",
       "text": [
        " 1\n",
        "1\n",
        "2"
       ]
      },
      {
       "output_type": "stream",
       "stream": "stdout",
       "text": [
        "\n",
        "3"
       ]
      },
      {
       "output_type": "stream",
       "stream": "stdout",
       "text": [
        "\n",
        "4"
       ]
      },
      {
       "output_type": "stream",
       "stream": "stdout",
       "text": [
        "\n",
        "5"
       ]
      },
      {
       "output_type": "stream",
       "stream": "stdout",
       "text": [
        "\n",
        "6"
       ]
      },
      {
       "output_type": "stream",
       "stream": "stdout",
       "text": [
        "\n",
        "7"
       ]
      },
      {
       "output_type": "stream",
       "stream": "stdout",
       "text": [
        "\n",
        "8"
       ]
      },
      {
       "output_type": "stream",
       "stream": "stdout",
       "text": [
        "\n",
        "9"
       ]
      },
      {
       "output_type": "stream",
       "stream": "stdout",
       "text": [
        "\n",
        "10"
       ]
      },
      {
       "output_type": "stream",
       "stream": "stdout",
       "text": [
        "\n",
        "alpha"
       ]
      },
      {
       "output_type": "stream",
       "stream": "stdout",
       "text": [
        " 10\n",
        "1\n",
        "2"
       ]
      },
      {
       "output_type": "stream",
       "stream": "stdout",
       "text": [
        "\n",
        "3"
       ]
      },
      {
       "output_type": "stream",
       "stream": "stdout",
       "text": [
        "\n",
        "4"
       ]
      },
      {
       "output_type": "stream",
       "stream": "stdout",
       "text": [
        "\n",
        "5"
       ]
      },
      {
       "output_type": "stream",
       "stream": "stdout",
       "text": [
        "\n",
        "6"
       ]
      },
      {
       "output_type": "stream",
       "stream": "stdout",
       "text": [
        "\n",
        "7"
       ]
      },
      {
       "output_type": "stream",
       "stream": "stdout",
       "text": [
        "\n",
        "8"
       ]
      },
      {
       "output_type": "stream",
       "stream": "stdout",
       "text": [
        "\n",
        "9"
       ]
      },
      {
       "output_type": "stream",
       "stream": "stdout",
       "text": [
        "\n",
        "10"
       ]
      },
      {
       "output_type": "stream",
       "stream": "stdout",
       "text": [
        "\n",
        "alpha"
       ]
      },
      {
       "output_type": "stream",
       "stream": "stdout",
       "text": [
        " 100\n",
        "1\n",
        "2"
       ]
      },
      {
       "output_type": "stream",
       "stream": "stdout",
       "text": [
        "\n",
        "3"
       ]
      },
      {
       "output_type": "stream",
       "stream": "stdout",
       "text": [
        "\n",
        "4"
       ]
      },
      {
       "output_type": "stream",
       "stream": "stdout",
       "text": [
        "\n",
        "5"
       ]
      },
      {
       "output_type": "stream",
       "stream": "stdout",
       "text": [
        "\n",
        "6"
       ]
      },
      {
       "output_type": "stream",
       "stream": "stdout",
       "text": [
        "\n",
        "7"
       ]
      },
      {
       "output_type": "stream",
       "stream": "stdout",
       "text": [
        "\n",
        "8"
       ]
      },
      {
       "output_type": "stream",
       "stream": "stdout",
       "text": [
        "\n",
        "9"
       ]
      },
      {
       "output_type": "stream",
       "stream": "stdout",
       "text": [
        "\n",
        "10"
       ]
      },
      {
       "output_type": "stream",
       "stream": "stdout",
       "text": [
        "\n",
        "alpha"
       ]
      },
      {
       "output_type": "stream",
       "stream": "stdout",
       "text": [
        " 1000\n",
        "1\n",
        "2"
       ]
      },
      {
       "output_type": "stream",
       "stream": "stdout",
       "text": [
        "\n",
        "3"
       ]
      },
      {
       "output_type": "stream",
       "stream": "stdout",
       "text": [
        "\n",
        "4"
       ]
      },
      {
       "output_type": "stream",
       "stream": "stdout",
       "text": [
        "\n",
        "5"
       ]
      },
      {
       "output_type": "stream",
       "stream": "stdout",
       "text": [
        "\n",
        "6"
       ]
      },
      {
       "output_type": "stream",
       "stream": "stdout",
       "text": [
        "\n",
        "7"
       ]
      },
      {
       "output_type": "stream",
       "stream": "stdout",
       "text": [
        "\n",
        "8"
       ]
      },
      {
       "output_type": "stream",
       "stream": "stdout",
       "text": [
        "\n",
        "9"
       ]
      },
      {
       "output_type": "stream",
       "stream": "stdout",
       "text": [
        "\n",
        "10"
       ]
      },
      {
       "output_type": "stream",
       "stream": "stdout",
       "text": [
        "\n"
       ]
      },
      {
       "output_type": "pyout",
       "prompt_number": 271,
       "text": [
        "<matplotlib.legend.Legend at 0x108e18c50>"
       ]
      },
      {
       "output_type": "display_data",
       "png": "[encoded data removed]",
       "text": [
        "<matplotlib.figure.Figure at 0x108e18cd0>"
       ]
      }
     ],
     "prompt_number": 271
    },
    {
     "cell_type": "heading",
     "level": 1,
     "metadata": {},
     "source": [
      "\u0417\u0430\u043a\u043b\u044e\u0447\u0435\u043d\u0438\u0435"
     ]
    },
    {
     "cell_type": "markdown",
     "metadata": {},
     "source": [
      "\u0412 \u0432\u0438\u0434\u0443 \u043d\u0435\u0442\u043e\u0447\u043d\u043e\u0441\u0442\u0438 \u043f\u043e\u0441\u0442\u0430\u043d\u043e\u0432\u043a\u0438 \u0437\u0430\u0434\u0430\u0447\u0438 \u044f \u043d\u0435 \u0441\u0442\u0430\u043b \u0434\u0430\u043b\u044c\u0448\u0435 \u043a\u043e\u043f\u0430\u0442\u044c\u0441\u044f \u043d\u0435\u043f\u043e\u0441\u0440\u0435\u0434\u0441\u0442\u0432\u0435\u043d\u043d\u043e \u0432 \u0430\u043b\u0433\u043e\u0440\u0438\u0442\u043c\u0435 \u0440\u0435\u0448\u0435\u043d\u0438\u044f \u0437\u0430\u0434\u0430\u0447\u0438. \u0412\u0441\u0435 \u0443\u0441\u0438\u043b\u0438\u044f \u044f \u0443\u0434\u0435\u043b\u0438\u043b \u0438\u043c\u0435\u043d\u043d\u043e \u0438\u0437\u0443\u0447\u0435\u043d\u0438\u044e \u0438\u043d\u0441\u0442\u0440\u0443\u043c\u0435\u043d\u0442\u043e\u0432 \u0441\u0447\u0438\u0442\u044b\u0432\u0430\u043d\u0438\u044f \u0438 \u043f\u0440\u0435\u0434\u043e\u0431\u0440\u0430\u0431\u043e\u0442\u043a\u0438 \u0434\u0430\u043d\u043d\u044b\u0445 \u0441 \u043f\u043e\u043c\u043e\u0449\u044c\u044e \u0441\u0440\u0435\u0434\u0441\u0442\u0432 \u0431\u0438\u0431\u043b\u0438\u043e\u0442\u0435\u043a\u0438 pandas \u0434\u043b\u044f python."
     ]
    }
   ],
   "metadata": {}
  }
 ]
}