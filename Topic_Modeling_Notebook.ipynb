{
 "metadata": {
  "name": ""
 },
 "nbformat": 3,
 "nbformat_minor": 0,
 "worksheets": [
  {
   "cells": [
    {
     "cell_type": "heading",
     "level": 2,
     "metadata": {},
     "source": [
      "\u0414\u0435\u043c\u043e\u043d\u0441\u0442\u0440\u0430\u0446\u0438\u044f \u043f\u043e\u0441\u0442\u0440\u043e\u0435\u043d\u0438\u044f \u043c\u043e\u0434\u0435\u043b\u0438 online LDA \u0438\u0437 \u0431\u0438\u0431\u043b\u0438\u043e\u0442\u0435\u043a\u0438 gensim \u043d\u0430 \u043a\u043e\u043b\u043b\u0435\u043a\u0446\u0438\u0438 NIPS"
     ]
    },
    {
     "cell_type": "markdown",
     "metadata": {},
     "source": [
      "\u041f\u043e\u0434\u043a\u043b\u044e\u0447\u0430\u0435\u043c \u0431\u0438\u0431\u043b\u0438\u043e\u0442\u0435\u043a\u0443 \u0442\u0435\u043c\u0430\u0442\u0438\u0447\u0435\u0441\u043a\u043e\u0433\u043e \u043c\u043e\u0434\u0435\u043b\u0438\u0440\u043e\u0432\u0430\u043d\u0438\u044f gensim (http://radimrehurek.com/gensim/),\n",
      "\u0437\u0430\u0433\u0440\u0443\u0436\u0430\u0435\u043c \u0438\u0437 NLTK (http://nltk.org/) \u043a\u043e\u0440\u043f\u0443\u0441 wordnet - \u043e\u043d \u043f\u043e\u043d\u0430\u0434\u043e\u0431\u0438\u0442\u0441\u044f \u043f\u0440\u0438 \u043b\u0435\u043c\u043c\u0430\u0442\u0438\u0437\u0430\u0446\u0438\u0438."
     ]
    },
    {
     "cell_type": "code",
     "collapsed": false,
     "input": [
      "import nltk\n",
      "import sys\n",
      "import os\n",
      "from math import log\n",
      "import numpy as np\n",
      "from time import time\n",
      "from gensim import corpora, models, similarities\n",
      "\n",
      "import logging\n",
      "logging.basicConfig(format='%(asctime)s : %(levelname)s : %(message)s', level=logging.INFO)\n",
      "\n",
      "nltk.download() #download WordNet corpora"
     ],
     "language": "python",
     "metadata": {},
     "outputs": [
      {
       "output_type": "stream",
       "stream": "stdout",
       "text": [
        "showing info http://nltk.github.com/nltk_data/\n"
       ]
      },
      {
       "metadata": {},
       "output_type": "pyout",
       "prompt_number": 44,
       "text": [
        "True"
       ]
      }
     ],
     "prompt_number": 44
    },
    {
     "cell_type": "markdown",
     "metadata": {},
     "source": [
      "\u041e\u043f\u0440\u0435\u0434\u0435\u043b\u0438\u043c \u043f\u0440\u0435\u0434\u043e\u0431\u0440\u0430\u0431\u043e\u0442\u043a\u0443 \u0442\u0435\u043a\u0441\u0442\u0430: \u043f\u0440\u0438\u0432\u043e\u0434\u0438\u043c \u043a \u043d\u0438\u0436\u043d\u0435\u043c\u0443 \u0440\u0435\u0433\u0438\u0441\u0442\u0440\u0443, \u0440\u0430\u0437\u0431\u0438\u0432\u0430\u0435\u043c \u043d\u0430 \u0442\u043e\u043a\u0435\u043d\u044b, \u043f\u0440\u043e\u0438\u0437\u0432\u043e\u0434\u0438\u043c \u043b\u0435\u043c\u043c\u0430\u0442\u0438\u0437\u0430\u0446\u0438\u044e. \u0422\u0430\u043a\u0438\u043c \u043e\u0431\u0440\u0430\u0437\u043e\u043c, \u043f\u0440\u0435\u0432\u0440\u0430\u0449\u0430\u0435\u043c \u0442\u0435\u043a\u0441\u0442 \u0432 \u0441\u043f\u0438\u0441\u043e\u043a \u043b\u0435\u043c\u043c."
     ]
    },
    {
     "cell_type": "code",
     "collapsed": false,
     "input": [
      "def preprocess(text):\n",
      "    wnl = nltk.WordNetLemmatizer()\n",
      "    return [wnl.lemmatize(t) for t in text.lower().split()]"
     ],
     "language": "python",
     "metadata": {},
     "outputs": [],
     "prompt_number": 3
    },
    {
     "cell_type": "markdown",
     "metadata": {},
     "source": [
      "\u0421\u0447\u0438\u0442\u0430\u0435\u043c \u043a\u043e\u043b\u043b\u0435\u043a\u0446\u0438\u044e \u0438\u0441\u0445\u043e\u0434\u043d\u044b\u0445 \u0442\u0435\u043a\u0441\u0442\u043e\u0432 \u0432 \u0441\u043f\u0438\u0441\u043e\u043a \u0434\u043e\u043a\u0443\u043c\u0435\u043d\u0442\u043e\u0432. \u041a\u0430\u0436\u0434\u044b\u0439 \u0434\u043e\u043a\u0443\u043c\u0435\u043d\u0442 - \u0441\u043f\u0438\u0441\u043e\u043a \u043b\u0435\u043c\u043c (\u0442\u043e\u043a\u0435\u043d\u043e\u0432). \u0412 \u044d\u0442\u043e\u043c \u043f\u0440\u0438\u043c\u0435\u0440\u0435 \u043c\u044b \u0437\u0430\u0433\u0440\u0443\u0436\u0430\u0435\u043c \u0432\u0441\u044e \u043a\u043e\u043b\u043b\u0435\u043a\u0446\u0438\u044e \u0432 \u043e\u043f\u0435\u0440\u0430\u0442\u0438\u0432\u043d\u0443\u044e \u043f\u0430\u043c\u044f\u0442\u044c. \u041d\u0430 \u0441\u0430\u043c\u043e\u043c \u0434\u0435\u043b\u0435, gensim \u043f\u043e\u0437\u0432\u043e\u043b\u044f\u0435\u0442 \u044d\u0442\u043e\u0433\u043e \u0438\u0437\u0431\u0435\u0436\u0430\u0442\u044c \u043d\u0430 \u0432\u0441\u0435\u0445 \u044d\u0442\u0430\u043f\u0430\u0445 \u043f\u043e\u0441\u0442\u0440\u043e\u0435\u043d\u0438\u044f \u043c\u043e\u0434\u0435\u043b\u0438.\n",
      "\n",
      "\u0418\u0441\u043f\u043e\u043b\u044c\u0437\u0443\u0435\u043c\u0430\u044f \u043a\u043e\u043b\u043b\u0435\u043a\u0446\u0438\u044f -- \u0441\u0442\u0430\u0442\u044c\u0438 \u0441 \u043a\u043e\u043d\u0444\u0435\u0440\u0435\u043d\u0446\u0438\u0438 NIPS, \u043e\u0434\u043d\u0430 \u0438\u0437 \u0441\u0442\u0430\u043d\u0434\u0430\u0440\u0442\u043d\u044b\u0445 \u043a\u043e\u043b\u043b\u0435\u043a\u0446\u0438\u0439 \u0434\u043b\u044f \u0442\u0435\u043c\u0430\u0442\u0438\u0447\u0435\u0441\u043a\u043e\u0433\u043e \u043c\u043e\u0434\u0435\u043b\u0438\u0440\u043e\u0432\u0430\u043d\u0438\u044f. \u0427\u0438\u0441\u043b\u043e \u0434\u043e\u043a\u0443\u043c\u0435\u043d\u0442\u043e\u0432 \u043e\u043a\u043e\u043b\u043e 1700, \u0434\u043b\u0438\u043d\u0430 \u043a\u0430\u0436\u0434\u043e\u0433\u043e \u0434\u043e\u043a\u0443\u043c\u0435\u043d\u0442\u0430 \u0432 \u0441\u043b\u043e\u0432\u0430\u0445 1000 - 2000."
     ]
    },
    {
     "cell_type": "code",
     "collapsed": false,
     "input": [
      "texts = []\n",
      "for filename in os.listdir(\"C:\\AtHand\\NIPS_data\"):\n",
      "    with open(\"C:\\AtHand\\NIPS_data\\\\\" + filename) as f: \n",
      "        texts.append(preprocess((''.join(f.readlines()).decode('cp1251'))))"
     ],
     "language": "python",
     "metadata": {},
     "outputs": [],
     "prompt_number": 7
    },
    {
     "cell_type": "markdown",
     "metadata": {},
     "source": [
      "\u0421\u0442\u0440\u043e\u0438\u043c \u043f\u043e \u043a\u043e\u043b\u043b\u0435\u043a\u0446\u0438\u0438 \u0441\u043b\u043e\u0432\u0430\u0440\u044c: \u043a\u0430\u0436\u0434\u043e\u043c\u0443 \u0443\u043d\u0438\u043a\u0430\u043b\u044c\u043d\u043e\u043c\u0443 \u0442\u043e\u043a\u0435\u043d\u0443 \u043f\u0440\u0438\u0441\u0432\u0430\u0438\u0432\u0430\u0435\u0442\u0441\u044f \u043d\u043e\u043c\u0435\u0440, \u0437\u0430\u043f\u043e\u043c\u0438\u043d\u0430\u0435\u0442\u0441\u044f \u043e\u0442\u043e\u0431\u0440\u0430\u0436\u0435\u043d\u0438\u0435 id2word. \u0412\u044b\u043f\u043e\u043b\u043d\u0438\u043c \u0432\u0442\u043e\u0440\u043e\u0439 \u044d\u0442\u0430\u043f \u043f\u0440\u0435\u0434\u043e\u0431\u0440\u0430\u0431\u043e\u0442\u043a\u0438: \u043e\u0442\u0441\u0435\u0438\u043c \u0441\u043b\u0438\u0448\u043a\u043e\u043c \u0440\u0435\u0434\u043a\u0438\u0435 \u0441\u043b\u043e\u0432\u0430 (\u043d\u0430\u043f\u0440\u0438\u043c\u0435\u0440, \u043e\u043f\u0435\u0447\u0430\u0442\u043a\u0438) \u0438 \u0441\u043b\u0438\u0448\u043a\u043e\u043c \u0447\u0430\u0441\u0442\u044b\u0435 \u0441\u043b\u043e\u0432\u0430 (\u043d\u0430\u043f\u0440\u0438\u043c\u0435\u0440, \u0441\u0442\u043e\u043f-\u0441\u043b\u043e\u0432\u0430 \u0438\u043b\u0438 \u043f\u0440\u043e\u0441\u0442\u043e \u0447\u0430\u0441\u0442\u043e\u0442\u043d\u044b\u0435 \u043d\u0435\u0442\u0435\u043c\u0430\u0442\u0438\u0447\u0435\u0441\u043a\u0438\u0435 \u0442\u0435\u0440\u043c\u0438\u043d\u044b). \u0424\u0443\u043d\u043a\u0446\u0438\u044f filter_extremes \u0443\u0434\u0430\u043b\u044f\u0435\u0442 \u0438\u0437 \u0441\u043b\u043e\u0432\u0430\u0440\u044f \u0442\u043e\u043a\u0435\u043d\u044b, \u043a\u043e\u0442\u043e\u0440\u044b\u0435 \u0432\u0441\u0442\u0440\u0435\u0442\u0438\u043b\u0438\u0441\u044c \u043c\u0435\u043d\u0435\u0435 \u0447\u0435\u043c \u0432 no_below \u0434\u043e\u043a\u0443\u043c\u0435\u043d\u0442\u043e\u0432 \u0438\u043b\u0438 \u0431\u043e\u043b\u0435\u0435 \u0447\u0435\u043c \u0432 \u0434\u043e\u043b\u0435 no_above \u043e\u0442 \u043e\u0431\u0449\u0435\u0433\u043e \u0447\u0438\u0441\u043b\u0430 \u0434\u043e\u043a\u0443\u043c\u0435\u043d\u0442\u043e\u0432. \u0420\u0430\u0437\u043c\u0435\u0440 \u043d\u0430\u0448\u0435\u0433\u043e \u0441\u043b\u043e\u0432\u0430\u0440\u044f \u043e\u0442 \u044d\u0442\u0438\u0445 \u0434\u0435\u0439\u0441\u0442\u0432\u0438\u0439 \u0441\u043e\u043a\u0440\u0430\u0442\u0438\u043b\u0441\u044f \u0441 26907 \u0434\u043e 31269 \u0442\u043e\u043a\u0435\u043d\u043e\u0432:"
     ]
    },
    {
     "cell_type": "code",
     "collapsed": false,
     "input": [
      "dictionary = corpora.Dictionary(texts)\n",
      "print 'Original: {}'.format(dictionary)\n",
      "dictionary.filter_extremes(no_below = 5, no_above = 0.5, keep_n=None)\n",
      "dictionary.save('nips.dict')\n",
      "print 'Filtered: {}'.format(dictionary)"
     ],
     "language": "python",
     "metadata": {},
     "outputs": [
      {
       "output_type": "stream",
       "stream": "stdout",
       "text": [
        "Original: Dictionary(269607 unique tokens)\n",
        "Filtered: Dictionary(31269 unique tokens)"
       ]
      },
      {
       "output_type": "stream",
       "stream": "stdout",
       "text": [
        "\n"
       ]
      }
     ],
     "prompt_number": 51
    },
    {
     "cell_type": "markdown",
     "metadata": {},
     "source": [
      "\u0418\u0441\u043f\u043e\u043b\u044c\u0437\u0443\u044f \u043f\u043e\u043b\u0443\u0447\u0435\u043d\u043d\u044b\u0439 \u0441\u043b\u043e\u0432\u0430\u0440\u044c, \u043f\u0440\u0435\u043e\u0431\u0440\u0430\u0437\u0443\u0435\u043c \u043a\u043e\u0440\u043f\u0443\u0441 \u0442\u0435\u043a\u0441\u0442\u043e\u0432 \u0432 \u0432\u0435\u043a\u0442\u043e\u0440\u0438\u0437\u043e\u0432\u0430\u043d\u043d\u043e\u0435 \u043f\u0440\u0435\u0434\u0441\u0442\u0430\u0432\u043b\u0435\u043d\u0438\u0435. \u041a\u0430\u0436\u0434\u044b\u0439 \u0434\u043e\u043a\u0443\u043c\u0435\u043d\u0442 \u0442\u0435\u043f\u0435\u0440\u044c \u044d\u0442\u043e \u0441\u043f\u0438\u0441\u043e\u043a \u043f\u0430\u0440 (\u043d\u043e\u043c\u0435\u0440 \u0442\u043e\u043a\u0435\u043d\u0430, \u0447\u0438\u0441\u043b\u043e \u0435\u0433\u043e \u0432\u0445\u043e\u0436\u0434\u0435\u043d\u0438\u0439 \u0432 \u0434\u043e\u043a\u0443\u043c\u0435\u043d\u0442). \u042d\u0442\u043e \u0440\u0430\u0437\u0440\u0435\u0436\u0435\u043d\u043d\u043e\u0435 \u043f\u0440\u0435\u0434\u0441\u0442\u0430\u0432\u043b\u0435\u043d\u0438\u0435 \u0432\u0435\u043a\u0442\u043e\u0440\u0430 \u0447\u0430\u0441\u0442\u043e\u0442: \u0442\u043e\u043a\u0435\u043d\u044b, \u043a\u043e\u0442\u043e\u0440\u044b\u0435 \u043d\u0435 \u0432\u0441\u0442\u0440\u0435\u0447\u0430\u044e\u0442\u0441\u044f \u0432 \u0434\u043e\u043a\u0443\u043c\u0435\u043d\u0442\u0435, \u043d\u0435 \u0443\u043a\u0430\u0437\u044b\u0432\u0430\u044e\u0442\u0441\u044f."
     ]
    },
    {
     "cell_type": "code",
     "collapsed": false,
     "input": [
      "corpus = [dictionary.doc2bow(text) for text in texts]\n",
      "corpora.MmCorpus.serialize('nips.mm', corpus) # store on disc"
     ],
     "language": "python",
     "metadata": {},
     "outputs": [],
     "prompt_number": 10
    },
    {
     "cell_type": "markdown",
     "metadata": {},
     "source": [
      "\u041f\u043e\u0441\u043c\u043e\u0442\u0440\u0438\u043c \u0433\u043b\u0430\u0437\u0430\u043c\u0438 \u043d\u0430 \u043d\u0430\u0447\u0430\u043b\u043e \u043e\u0434\u043d\u043e\u0433\u043e \u0438\u0437 \u0434\u043e\u043a\u0443\u043c\u0435\u043d\u0442\u043e\u0432. \u0422\u043e, \u0447\u0442\u043e \u0431\u043e\u043b\u044c\u0448\u0438\u043d\u0441\u0442\u0432\u043e \u0441\u0447\u0435\u0442\u0447\u0438\u043a\u043e\u0432 \u0440\u0430\u0432\u043d\u043e 1 -- \u0442\u0438\u043f\u0438\u0447\u043d\u043e. \u0420\u0430\u0441\u043f\u0440\u0435\u0434\u0435\u043b\u0435\u043d\u0438\u0435 \u0447\u0430\u0441\u0442\u043e\u0442 \u0441\u043b\u043e\u0432 \u0432 \u0434\u043e\u043a\u0443\u043c\u0435\u043d\u0442\u0435 \u043f\u043e\u0434\u0447\u0438\u043d\u044f\u0435\u0442\u0441\u044f \u0437\u0430\u043a\u043e\u043d\u0443 \u0426\u0438\u043f\u0444\u0430 (\u0447\u0430\u0441\u0442\u043e\u0442\u0430 \u043e\u0431\u0440\u0430\u0442\u043d\u043e \u043f\u0440\u043e\u043f\u043e\u0440\u0446\u0438\u043e\u043d\u0430\u043b\u044c\u043d\u0430 \u0440\u0430\u043d\u0433\u0443 \u0441\u043b\u043e\u0432\u0430)."
     ]
    },
    {
     "cell_type": "code",
     "collapsed": false,
     "input": [
      "print corpus[0][0:20]"
     ],
     "language": "python",
     "metadata": {},
     "outputs": [
      {
       "output_type": "stream",
       "stream": "stdout",
       "text": [
        "[(65, 1), (182, 4), (198, 1), (292, 1), (450, 1), (628, 1), (633, 1), (651, 2), (674, 1), (801, 2), (825, 2), (1017, 1), (1080, 1), (1184, 1), (1201, 2), (1401, 1), (1416, 1), (1436, 1), (1437, 1), (1526, 1)]\n"
       ]
      }
     ],
     "prompt_number": 41
    },
    {
     "cell_type": "markdown",
     "metadata": {},
     "source": [
      "\u0422\u0435\u043f\u0435\u0440\u044c \u043c\u044b \u0433\u043e\u0442\u043e\u0432\u044b \u043a \u0442\u043e\u043c\u0443, \u0447\u0442\u043e\u0431\u044b \u0441\u0442\u0440\u043e\u0438\u0442\u044c \u0442\u0435\u043c\u0430\u0442\u0438\u0447\u0435\u0441\u043a\u0443\u044e \u043c\u043e\u0434\u0435\u043b\u044c \u043d\u0430\u0448\u0435\u0439 \u043a\u043e\u043b\u043b\u0435\u043a\u0446\u0438\u0438. \u041c\u044b \u0441\u0442\u0440\u043e\u0438\u043c \u043c\u043e\u0434\u0435\u043b\u044c online lda, \u0440\u0435\u0430\u043b\u0438\u0437\u043e\u0432\u0430\u043d\u043d\u0443\u044e \u0432 \u0431\u0438\u0431\u043b\u0438\u043e\u0442\u0435\u043a\u0435 gensim. \u0423\u043a\u0430\u0437\u044b\u0432\u0430\u0435\u043c \u0432\u0435\u043a\u0442\u043e\u0440\u0438\u0437\u043e\u0432\u0430\u043d\u043d\u044b\u0439 \u043a\u043e\u0440\u043f\u0443\u0441 \u0442\u0435\u043a\u0441\u0442\u043e\u0432, \u0441\u043b\u043e\u0432\u0430\u0440\u044c, \u0447\u0438\u0441\u043b\u043e \u0442\u0435\u043c 100. \u041e\u0441\u0442\u0430\u043b\u044c\u043d\u044b\u0435 \u043f\u0430\u0440\u0430\u043c\u0435\u0442\u0440\u044b \u043e\u0431\u0441\u0443\u0434\u0438\u043c \u043f\u043e\u0437\u0436\u0435."
     ]
    },
    {
     "cell_type": "code",
     "collapsed": false,
     "input": [
      "start = time()\n",
      "model = models.ldamodel.LdaModel(corpus, id2word=dictionary, num_topics=100, chunksize=50, update_every=1, passes=2)\n",
      "print 'Evaluation time: {}'.format((time()-start) / 60)"
     ],
     "language": "python",
     "metadata": {},
     "outputs": [
      {
       "output_type": "stream",
       "stream": "stdout",
       "text": [
        "Evaluation time: 6.3050999999\n"
       ]
      }
     ],
     "prompt_number": 48
    },
    {
     "cell_type": "markdown",
     "metadata": {},
     "source": [
      "\u041f\u043e\u0441\u043c\u043e\u0442\u0440\u0438\u043c, \u0447\u0442\u043e \u043f\u043e\u043b\u0443\u0447\u0438\u043b\u043e\u0441\u044c. \u0424\u0443\u043d\u043a\u0446\u0438\u044f print_topics(n) \u0432\u044b\u0432\u043e\u0434\u0438\u0442 10 \u043d\u0430\u0438\u0431\u043e\u043b\u0435\u0435 \u0432\u0435\u0440\u043e\u044f\u0442\u043d\u044b\u0445 \u0441\u043b\u043e\u0432 \u0432 n \u0441\u043b\u0443\u0447\u0430\u0439\u043d\u044b\u0445 \u0442\u0435\u043c\u0430\u0445. \u0418\u043d\u0442\u0435\u0440\u043f\u0440\u0435\u0442\u0438\u0440\u0443\u0435\u043c\u043e?) \u041a\u043e\u043b\u043b\u0435\u043a\u0446\u0438\u044f NIPS \u0432\u0441\u044f \u043f\u043e\u0441\u0432\u044f\u0449\u0435\u043d\u0430 \u043c\u0430\u0448\u0438\u043d\u043d\u043e\u043c\u0443 \u043e\u0431\u0443\u0447\u0435\u043d\u0438\u044e. \u0417\u0440\u0438\u0442\u0435\u043b\u044c\u043d\u043e, \u0441\u043b\u043e\u0436\u043d\u043e \u043e\u0446\u0435\u043d\u0438\u0442\u044c \u0442\u0435\u043c\u044b, \u0445\u043e\u0442\u044f \u043d\u0435\u043a\u043e\u0442\u043e\u0440\u0430\u044f \u0438\u043d\u0442\u0435\u0440\u043f\u0440\u0435\u0442\u0438\u0440\u0443\u0435\u043c\u043e\u0441\u0442\u044c \u0438 \u043f\u0440\u043e\u0441\u043b\u0435\u0436\u0438\u0432\u0430\u0435\u0442\u0441\u044f. "
     ]
    },
    {
     "cell_type": "code",
     "collapsed": false,
     "input": [
      "model.print_topics(5)"
     ],
     "language": "python",
     "metadata": {},
     "outputs": [
      {
       "metadata": {},
       "output_type": "pyout",
       "prompt_number": 15,
       "text": [
        "['0.025*matching + 0.013*constraint + 0.012*optimization + 0.012*allocation + 0.009*sutton + 0.009*assignment + 0.009*operating + 0.008*dual + 0.007*benefit + 0.007*pose',\n",
        " '0.010*variable + 0.010*cost + 0.007*conditional + 0.006*basis + 0.006*estimate + 0.005*compute + 0.004*joint + 0.004*approximate + 0.004*rbf + 0.004*sampling',\n",
        " '0.033*connection + 0.017*simulation + 0.008*development + 0.007*b + 0.006*contribution + 0.006*strength + 0.006*c + 0.005*type + 0.005*stable + 0.005*local',\n",
        " '0.076*control + 0.058*policy + 0.029*controller + 0.016*hand + 0.016*trajectory + 0.014*learned + 0.012*forward + 0.010*observable + 0.010*feedback + 0.009*tracking',\n",
        " '0.062*scheduling + 0.053*game + 0.044*candidate + 0.038*context-dependent + 0.026*search + 0.021*security + 0.021*tesauro, + 0.019*chooses + 0.018*triangulation + 0.017*historical']"
       ]
      }
     ],
     "prompt_number": 15
    },
    {
     "cell_type": "markdown",
     "metadata": {},
     "source": [
      "\u041c\u044b \u043f\u043e\u0441\u043c\u043e\u0442\u0440\u0435\u043b\u0438 \u043d\u0430 \u0447\u0430\u0441\u0442\u044c \u043c\u0430\u0442\u0440\u0438\u0446\u044b Phi - \u0432\u0435\u0440\u043e\u044f\u0442\u043d\u043e\u0441\u0442\u0435\u0439 \u0441\u043b\u043e\u0432 \u0432 \u0442\u0435\u043c\u0430\u0445, \u0442\u0435\u043f\u0435\u0440\u044c \u043f\u043e\u0441\u043e\u043c\u0442\u0440\u0438\u043c \u043d\u0430 \u0447\u0430\u0441\u0442\u044c \u043c\u0430\u0442\u0440\u0438\u0446\u044b Theta - \u0432\u0435\u0440\u043e\u044f\u0442\u043d\u043e\u0441\u0442\u0435\u0439 \u0442\u0435\u043c \u0432 \u0434\u043e\u043a\u0443\u043c\u0435\u043d\u0442\u0430\u0445. \u041d\u0438\u0436\u0435 \u0432\u044b\u0432\u0435\u0434\u0435\u043d\u044b \u043d\u043e\u043c\u0435\u0440\u0430 \u0442\u0435\u043c \u0438 \u0432\u0435\u0440\u043e\u044f\u0442\u043d\u043e\u0441\u0442\u0438 \u044d\u0442\u0438\u0445 \u0442\u0435\u043c \u0434\u043b\u044f \u043d\u0435\u043a\u043e\u0442\u043e\u0440\u043e\u0433\u043e \u0434\u043e\u043a\u0443\u043c\u0435\u043d\u0442\u0430. \u0417\u0430\u043c\u0435\u0442\u0438\u043c, \u0447\u0442\u043e \u044d\u0442\u043e \u043e\u0447\u0435\u043d\u044c \u0440\u0430\u0437\u0440\u0435\u0436\u0435\u043d\u043d\u044b\u0439 \u0432\u0435\u043a\u0442\u043e\u0440. \u041d\u0430 \u0441\u0430\u043c\u043e\u043c \u0434\u0435\u043b\u0435, \u043c\u043e\u0434\u0435\u043b\u044c \u0441\u0442\u0440\u043e\u0438\u0442 \u0430\u0431\u0441\u043e\u043b\u044e\u0442\u043d\u043e \u043f\u043b\u043e\u0442\u043d\u044b\u0439 \u0432\u0435\u043a\u0442\u043e\u0440 (\u0438 \u044d\u0442\u043e \u043f\u043b\u043e\u0445\u043e), \u0430 \u0444\u0443\u043d\u043a\u0446\u0438\u044f \u0432\u044b\u0432\u043e\u0434\u0430 \u043f\u0440\u043e\u0441\u0442\u043e \u043e\u0431\u043d\u0443\u043b\u044f\u0435\u0442 \u0432\u0441\u0435 \u0432\u0435\u0440\u043e\u044f\u0442\u043d\u0441\u0442\u0438, \u043c\u0435\u043d\u044c\u0448\u0438\u0435 0.01."
     ]
    },
    {
     "cell_type": "code",
     "collapsed": false,
     "input": [
      "some_document = corpus[0]\n",
      "print model[some_document]"
     ],
     "language": "python",
     "metadata": {},
     "outputs": [
      {
       "output_type": "stream",
       "stream": "stdout",
       "text": [
        "[(0, 0.057983589830219083), (1, 0.028432191341674067), (13, 0.50726200371980035), (21, 0.044913940049705961), (24, 0.012535462709885918), (25, 0.036356757542247313), (50, 0.11519533036264434), (54, 0.044847361456477899), (75, 0.056096618297844458), (82, 0.016716159660294373), (90, 0.013102169879944133)]\n"
       ]
      }
     ],
     "prompt_number": 16
    },
    {
     "cell_type": "markdown",
     "metadata": {},
     "source": [
      "\u0425\u043e\u0447\u0435\u0442\u0441\u044f \u043e\u0446\u0435\u043d\u0438\u0442\u044c \u043c\u043e\u0434\u0435\u043b\u044c \u0447\u0435\u043c-\u0442\u043e \u0431\u043e\u043b\u0435\u0435 \u0443\u0431\u0435\u0434\u0438\u0442\u0435\u043b\u044c\u043d\u044b\u043c, \u0447\u0435\u043c \u0440\u0430\u0437\u0433\u043b\u044f\u0434\u044b\u0432\u0430\u043d\u0438\u0435 \u043f\u0440\u043e\u0444\u0438\u043b\u0435\u0439 \u0442\u0435\u043c \u0438 \u043f\u0440\u043e\u0444\u0438\u043b\u0435\u0439 \u0434\u043e\u043a\u0443\u043c\u0435\u043d\u0442\u043e\u0432. \u042d\u0442\u043e \u043d\u0435\u043e\u0431\u0445\u043e\u0434\u0438\u043c\u043e \u0434\u043b\u044f \u0432\u043e\u0437\u043c\u043e\u0436\u043d\u043e\u0441\u0438 \u0441\u0440\u0430\u0432\u043d\u0435\u043d\u0438\u044f \u0440\u0430\u0437\u043d\u044b\u0445 \u043c\u043e\u0434\u0435\u043b\u0435\u0439, \u043d\u0430\u043f\u0440\u0438\u043c\u0435\u0440 \u043f\u043e\u043b\u0443\u0447\u0435\u043d\u043d\u044b\u0445 \u0441 \u0440\u0430\u0437\u043d\u044b\u043c\u0438 \u043f\u0430\u0440\u0430\u043c\u0435\u0442\u0440\u0430\u043c\u0438 \u0437\u0430\u043f\u0443\u0441\u043a\u0430. \u041d\u0430\u0443\u0447\u0438\u043c\u0441\u044f \u043c\u0435\u0440\u0438\u0442\u044c \u043f\u0435\u0440\u043f\u043b\u0435\u043a\u0441\u0438\u044e. \u0424\u0443\u043d\u043a\u0446\u0438\u044f model.state.get_lambda \u0432\u043e\u0437\u0432\u0440\u0430\u0449\u0430\u0435\u0442 \u043d\u0435\u043d\u043e\u0440\u043c\u0438\u0440\u043e\u0432\u0430\u043d\u043d\u0443\u044e \u043c\u0430\u0442\u0440\u0438\u0446\u0443 Phi, model.inference \u043e\u0446\u0435\u043d\u0438\u0432\u0430\u0435\u0442 \u043d\u0435\u043d\u043e\u0440\u043c\u0438\u0440\u043e\u0432\u0430\u043d\u043d\u0443\u044e \u043c\u0430\u0442\u0440\u0438\u0446\u0443 Theta \u0434\u043b\u044f \u0441\u043f\u0438\u0441\u043a\u0430 \u0434\u043e\u043a\u0443\u043c\u0435\u043d\u0442\u043e\u0432. \u041f\u0440\u043e\u0445\u043e\u0434\u0438\u043c \u043f\u043e \u043a\u043e\u043b\u043b\u0435\u043a\u0446\u0438\u0438 \u0438 \u0441\u0447\u0438\u0442\u0430\u0435\u043c \u043f\u0435\u0440\u043f\u043b\u0435\u043a\u0441\u0438\u044e \u043f\u043e \u0444\u043e\u0440\u043c\u0443\u043b\u0435. \u0427\u0435\u043c \u043c\u0435\u043d\u044c\u0448\u0435 \u043f\u0435\u0440\u043f\u043b\u0435\u043a\u0441\u0438\u044f, \u0442\u0435\u043c \u043b\u0443\u0447\u0448\u0435."
     ]
    },
    {
     "cell_type": "code",
     "collapsed": false,
     "input": [
      "def perplexity(model, corpus):\n",
      "    corpus_length = 0\n",
      "    log_likelihood = 0\n",
      "    topic_profiles = model.state.get_lambda() / np.sum(model.state.get_lambda(), axis=1)[:, np.newaxis]\n",
      "    for document in corpus:\n",
      "        gamma, _ = model.inference([document])\n",
      "        document_profile = gamma / np.sum(gamma)\n",
      "        for term_id, term_count in document:\n",
      "            corpus_length += term_count\n",
      "            term_probability = np.dot(document_profile, topic_profiles[:, term_id])\n",
      "            log_likelihood += term_count * log(term_probability)\n",
      "    perplexity = np.exp(-log_likelihood / corpus_length)\n",
      "    return perplexity"
     ],
     "language": "python",
     "metadata": {},
     "outputs": [],
     "prompt_number": 35
    },
    {
     "cell_type": "markdown",
     "metadata": {},
     "source": [
      "\u041e\u0446\u0435\u043d\u0438\u043c \u043f\u0435\u0440\u043f\u043b\u0435\u043a\u0441\u0438\u044e \u043d\u0430 \u043e\u0431\u0443\u0447\u0435\u043d\u0438\u0438: 4655 \u043f\u043e\u043f\u0443\u0433\u0430\u0435\u0432. "
     ]
    },
    {
     "cell_type": "code",
     "collapsed": false,
     "input": [
      "print 'Perplexity: {}'.format(perplexity(model, corpus))"
     ],
     "language": "python",
     "metadata": {},
     "outputs": [
      {
       "output_type": "stream",
       "stream": "stdout",
       "text": [
        "Perplexity: 4656.83402779\n"
       ]
      }
     ],
     "prompt_number": 49
    },
    {
     "cell_type": "markdown",
     "metadata": {},
     "source": [
      "\u0412\u0435\u0440\u043d\u0435\u043c\u0441\u044f \u043a \u043f\u0430\u0440\u0430\u043c\u0435\u0442\u0440\u0430\u043c \u043f\u043e\u0441\u0442\u0440\u043e\u0435\u043d\u0438\u044f \u043c\u043e\u0434\u0435\u043b\u0438 online LDA. \u041c\u043e\u0436\u043d\u043e \u0437\u0430\u0434\u0430\u0442\u044c: num_topics (100) - \u0447\u0438\u0441\u043b\u043e \u0442\u0435\u043c, chunksize (2000) - \u0440\u0430\u0437\u043c\u0435\u0440 \u0431\u043b\u043e\u043a\u0430, passes - \u0447\u0438\u0441\u043b\u043e \u043f\u0440\u043e\u0445\u043e\u0434\u043e\u0432 \u043f\u043e \u0432\u0441\u0435 \u043a\u043e\u043b\u043b\u0435\u043a\u0446\u0438\u0438, update_every (1) - \u043a\u0430\u0436\u0434\u044b\u0435 \u0441\u043a\u043e\u043b\u044c\u043a\u043e \u0431\u043b\u043e\u043a\u043e\u0432 \u043e\u0431\u043d\u043e\u0432\u043b\u044f\u0442\u044c Phi, decay (0.5) - \u043a\u043e\u044d\u0444\u0444\u0438\u0446\u0438\u0435\u043d\u0442 \u0437\u0430\u0431\u044b\u0432\u0430\u043d\u0438\u044f \u043f\u0440\u0438 \u043e\u0431\u043d\u043e\u0432\u043b\u0435\u043d\u0438\u044f\u0445.\n",
      "\u0422\u0430\u043a\u0438\u043c \u043e\u0431\u0440\u0430\u0437\u043e\u043c, \u043f\u0440\u0438 \u043e\u0431\u0443\u0447\u0435\u043d\u0438\u0438 \u043f\u0435\u0440\u0432\u043e\u0439 \u043c\u043e\u0434\u0435\u043b\u0438 \u043c\u044b \u0441\u043e\u0432\u0435\u0440\u0448\u0438\u043b\u0438 \u0434\u0432\u0430 \u043f\u043e\u043b\u043d\u044b\u0445 \u043f\u0440\u043e\u0445\u043e\u0434\u0430 \u043f\u043e \u043a\u043e\u043b\u043b\u0435\u043a\u0446\u0438\u0438, \u043e\u0431\u043d\u043e\u0432\u043b\u044f\u044f Phi \u043f\u043e\u0441\u043b\u0435 \u043a\u0430\u0436\u0434\u044b\u0445 50 \u0434\u043e\u043a\u0443\u043c\u0435\u043d\u0442\u043e\u0432. \u041c\u043e\u0434\u0435\u043b\u044c \u043f\u043e\u0441\u0442\u0440\u043e\u0438\u043b\u0430\u0441\u044c \u0437\u0430 6 \u043c\u0438\u043d\u0443\u0442 \u0441 \u043f\u0435\u0440\u043f\u043b\u0435\u043a\u0441\u0438\u0435\u0439 4656. \u041f\u043e\u043f\u0440\u043e\u0431\u0443\u0435\u043c \u0434\u0440\u0443\u0433\u043e\u0435 \u0441\u043e\u0447\u0435\u0442\u0430\u043d\u0438\u0435 \u043f\u0430\u0440\u0430\u043c\u0435\u0442\u0440\u043e\u0432. \u0421\u0434\u0435\u043b\u0430\u0435\u043c 40 \u043f\u0440\u043e\u0445\u043e\u0434\u043e\u0432 \u043f\u043e \u043a\u043e\u043b\u043b\u0435\u043a\u0446\u0438\u0438 \u0441 \u043e\u0431\u043d\u043e\u0432\u043b\u0435\u043d\u0438\u044f\u043c\u0438 Phi \u0440\u0430\u0437 \u0432 \u043a\u043e\u043b\u043b\u0435\u043a\u0446\u0438\u044e:"
     ]
    },
    {
     "cell_type": "code",
     "collapsed": false,
     "input": [
      "start = time()\n",
      "model2 = models.ldamodel.LdaModel(corpus, id2word=dictionary, num_topics=100, update_every=0, passes=40)\n",
      "print 'Evaluation time: {}'.format((time()-start) / 60)\n",
      "print 'Perplexity: {}'.format(perplexity(model2, corpus))"
     ],
     "language": "python",
     "metadata": {},
     "outputs": [
      {
       "output_type": "stream",
       "stream": "stdout",
       "text": [
        "Evaluation time: 49.8415000002\n",
        "Perplexity: 3299.83022126"
       ]
      },
      {
       "output_type": "stream",
       "stream": "stdout",
       "text": [
        "\n"
       ]
      }
     ],
     "prompt_number": 47
    },
    {
     "cell_type": "markdown",
     "metadata": {},
     "source": [
      "\u041c\u043e\u0434\u0435\u043b\u044c \u0434\u043e\u0441\u0442\u0438\u0433\u043b\u0430 \u043b\u0443\u0447\u0448\u0435\u0439 \u043f\u0435\u0440\u043f\u043b\u0435\u043a\u0441\u0438\u0438, \u043e\u0434\u043d\u0430\u043a\u043e \u043e\u0431\u0443\u0447\u0430\u043b\u0430\u0441\u044c \u0441\u0443\u0449\u0435\u0441\u0442\u0432\u0435\u043d\u043d\u043e \u0434\u043e\u043b\u044c\u0448\u0435. \u041d\u0435\u043e\u0431\u0445\u043e\u0434\u0438\u043c \u043f\u043e\u0434\u0431\u043e\u0440 \u043e\u043f\u0442\u0438\u043c\u0430\u043b\u044c\u043d\u043e\u0433\u043e \u0441\u043e\u0447\u0435\u0442\u0430\u043d\u0438\u044f \u043f\u0430\u0440\u0430\u043c\u0435\u0442\u0440\u043e\u0432, \u044d\u0442\u043e \u0442\u0440\u0435\u0431\u0443\u0435\u0442 \u0431\u043e\u043b\u044c\u0448\u043e\u0433\u043e \u0447\u0438\u0441\u043b\u0430 \u044d\u043a\u0441\u043f\u0435\u0440\u0438\u043c\u0435\u043d\u0442\u043e\u0432.\n",
      "\u0412\u0435\u0440\u043d\u0435\u043c\u0441\u044f \u043a \u043f\u0435\u0440\u0432\u043e\u043c\u0443 \u043d\u0430\u0431\u043e\u0440\u0443 \u043f\u0430\u0440\u0430\u043c\u0435\u0442\u0440\u043e\u0432 \u0438 \u0438\u0437\u043c\u0435\u043d\u0438\u043c \u0447\u0438\u0441\u043b\u043e \u0442\u0435\u043c \u0441\u043e 100 \u043d\u0430 10:"
     ]
    },
    {
     "cell_type": "code",
     "collapsed": false,
     "input": [
      "start = time()\n",
      "model3 = models.ldamodel.LdaModel(corpus, id2word=dictionary, num_topics=10, chunksize=50, update_every=1, passes=2)\n",
      "print 'Evaluation time: {}'.format((time()-start) / 60)\n",
      "print 'Perplexity: {}'.format(perplexity(model3, corpus))\n",
      "model3.print_topics(10)"
     ],
     "language": "python",
     "metadata": {},
     "outputs": [
      {
       "output_type": "stream",
       "stream": "stdout",
       "text": [
        "Evaluation time: 2.10601666768\n",
        "Perplexity: 5841.89314506"
       ]
      },
      {
       "output_type": "stream",
       "stream": "stdout",
       "text": [
        "\n"
       ]
      },
      {
       "metadata": {},
       "output_type": "pyout",
       "prompt_number": 46,
       "text": [
        "['0.030*signal + 0.016*noise + 0.015*source + 0.013*channel + 0.012*filter + 0.011*frequency + 0.008*spike + 0.008*wavelet + 0.007*sound + 0.007*detection',\n",
        " '0.005*image + 0.005*recognition + 0.004*classification + 0.004*level + 0.003*class + 0.003*representation + 0.003*high + 0.003*face + 0.002*table + 0.002*technique',\n",
        " '0.024*neuron + 0.015*circuit + 0.011*analog + 0.011*chip + 0.010*current + 0.009*cell + 0.007*voltage + 0.007*synaptic + 0.006*vlsi + 0.006*memory',\n",
        " '0.006*optimal + 0.005*let + 0.004*approximation + 0.004*gradient + 0.004*< + 0.004*f + 0.004*> + 0.004*r + 0.004*convergence + 0.003*s',\n",
        " '0.021*action + 0.020*reinforcement + 0.017*& + 0.015*control + 0.010*robot + 0.009*reward + 0.007*environment + 0.006*rl + 0.006*goal + 0.006*representation',\n",
        " '0.008*mixture + 0.007*estimate + 0.007*gaussian + 0.006*control + 0.006*prior + 0.006*classifier + 0.005*bayesian + 0.005*nonlinear + 0.005*controller + 0.005*likelihood',\n",
        " '0.018*node + 0.013*structure + 0.012*object + 0.012*tree + 0.011*map + 0.009*local + 0.008*cluster + 0.008*image + 0.008*distance + 0.008*graph',\n",
        " '0.012*policy + 0.009*hidden + 0.006*task + 0.006*speech + 0.005*word + 0.005*net + 0.005*trained + 0.005*learn + 0.005*sequence + 0.004*recognition',\n",
        " '0.027*image + 0.020*visual + 0.014*cell + 0.013*motion + 0.012*field + 0.010*response + 0.010*spatial + 0.008*object + 0.008*stimulus + 0.007*direction',\n",
        " '0.016*dynamic + 0.006*equation + 0.005*transition + 0.005*phase + 0.004*o + 0.004*fixed + 0.004*component + 0.004*initial + 0.004*dynamical + 0.003*eeg']"
       ]
      }
     ],
     "prompt_number": 46
    },
    {
     "cell_type": "markdown",
     "metadata": {},
     "source": [
      "\u041f\u0435\u0440\u043f\u043b\u0435\u043a\u0441\u0438\u044f \u0437\u0430\u043c\u0435\u0442\u043d\u043e \u0443\u0445\u0443\u0434\u0448\u0438\u043b\u0430\u0441\u044c. \u041f\u0440\u0438 \u044d\u0442\u043e\u043c \u0432\u0438\u0437\u0443\u0430\u043b\u044c\u043d\u043e \u0442\u0435\u043c\u044b \u0441\u0442\u0430\u043b\u0438 \u0431\u043e\u043b\u0435\u0435 \u0438\u043d\u0442\u0435\u043f\u0440\u0435\u0442\u0438\u0440\u0443\u0435\u043c\u044b\u043c\u0438. \u041f\u0435\u0440\u043f\u043b\u0435\u043a\u0441\u0438\u044f \u043d\u0435 \u043e\u0442\u0440\u0430\u0436\u0430\u0435\u0442 \u0438\u043d\u0442\u0435\u0440\u043f\u0440\u0435\u0442\u0438\u0440\u0443\u0435\u043c\u043e\u0441\u0442\u044c \u043c\u043e\u0434\u0435\u043b\u0438!\n",
      "\u041d\u0430\u0443\u0447\u0438\u043c\u0441\u044f \u0438\u0437\u043c\u0435\u0440\u044f\u0442\u044c \u0432\u043d\u0435\u0448\u043d\u044e\u044e \u043c\u0435\u0440\u0443 \u043a\u0430\u0447\u0435\u0441\u0442\u0432\u0430 \u043c\u043e\u0434\u0435\u043b\u0438 - \u043a\u0430\u0447\u0435\u0441\u0442\u0432\u043e \u0442\u0435\u043c\u0430\u0442\u0438\u0447\u0435\u0441\u043a\u043e\u0433\u043e \u043f\u043e\u0438\u0441\u043a\u0430.\n",
      "\u0414\u043b\u044f \u044d\u0442\u043e\u0433\u043e \u0440\u0430\u0437\u0431\u0435\u0440\u0435\u043c\u0441\u044f, \u043a\u0430\u043a \u0441\u0440\u0435\u0434\u0441\u0442\u0432\u0430 gensim \u043d\u0430\u043c \u043f\u043e\u043c\u043e\u0433\u0443\u0442 \u043e\u0440\u0433\u0430\u043d\u0438\u0437\u043e\u0432\u0430\u0442\u044c \u043f\u043e\u0438\u0441\u043a \u043d\u0430 \u0431\u0430\u0437\u0435 \u043f\u043e\u0441\u0442\u0440\u043e\u0435\u043d\u043d\u043e\u0439 \u043c\u043e\u0434\u0435\u043b\u0438.\n",
      "\n",
      "\u041e\u0446\u0435\u043d\u0438\u043c \u0442\u0435\u043c\u0430\u0442\u0438\u0447\u0435\u0441\u043a\u0438\u0435 \u043f\u0440\u043e\u0444\u0438\u043b\u0438 \u0432\u0441\u0435\u0445 \u0434\u043e\u043a\u0443\u043c\u0435\u043d\u0442\u043e\u0432 \u043a\u043e\u0440\u043f\u0443\u0441\u0430 \u0438 \u0437\u0430\u043f\u0440\u043e\u0441\u0430 (\u0432 \u0434\u0430\u043d\u043d\u043e\u043c \u0441\u043b\u0443\u0447\u0430\u0435 \u043d\u0443\u043b\u0435\u0432\u043e\u0433\u043e \u0434\u043e\u043a\u0443\u043c\u0435\u043d\u0442\u0430).\n",
      "similarities.MatrixSimilarity \u0438\u043d\u0438\u0446\u0438\u0430\u043b\u0438\u0437\u0438\u0440\u0443\u0435\u0442 \u043f\u043e \u043f\u0440\u043e\u0444\u0438\u043b\u044f\u043c \u0434\u043e\u043a\u0443\u043c\u0435\u043d\u0442\u043e\u0432 \u043e\u0431\u044a\u0435\u043a\u0442 index, \u0441 \u043f\u043e\u043c\u043e\u0449\u044c\u044e \u043a\u043e\u0442\u043e\u0440\u043e\u0433\u043e \u043c\u043e\u0436\u043d\u043e \u0437\u0430\u0442\u0435\u043c \u043e\u0446\u0435\u043d\u0438\u0432\u0430\u0442\u044c \u0431\u043b\u0438\u0437\u043e\u0441\u0442\u044c \u0437\u0430\u043f\u0440\u043e\u0441\u0430 \u043a \u0434\u043e\u043a\u0443\u043c\u0435\u043d\u0442\u0430\u043c. \u0411\u043b\u0438\u0437\u043e\u0441\u0442\u044c -- \u044d\u0442\u043e \u043a\u043e\u0441\u0438\u043d\u0443\u0441\u043d\u0430\u044f \u043c\u0435\u0440\u0430 \u043c\u0435\u0436\u0434\u0443 \u0442\u0435\u043c\u0430\u0442\u0438\u0447\u0435\u0441\u043a\u0438\u043c\u0438 \u043f\u0440\u043e\u0444\u0438\u043b\u044f\u043c\u0438.\n",
      "\u041e\u0442\u0441\u043e\u0440\u0442\u0438\u0440\u0443\u0435\u043c \u0434\u043e\u043a\u0443\u043c\u0435\u043d\u0442\u044b \u043f\u043e \u0443\u0431\u044b\u0432\u0430\u043d\u0438\u044e \u0431\u043b\u0438\u0437\u043e\u0441\u0442\u0438 \u0438 \u0432\u044b\u0432\u0435\u0434\u0435\u043c \u0442\u043e\u043f-10. \u0414\u043e\u043a\u0443\u043c\u0435\u043d\u0442, \u0441\u043e\u0432\u043f\u0430\u0434\u0430\u044e\u0449\u0438\u0439 \u0441 \u0437\u0430\u043f\u0440\u043e\u0441\u043e\u043c, \u043d\u0430 \u043f\u0435\u0440\u0432\u043e\u043c \u043c\u0435\u0441\u0442\u0435 \u0432 \u0432\u044b\u0434\u0430\u0447\u0435."
     ]
    },
    {
     "cell_type": "code",
     "collapsed": false,
     "input": [
      "index = similarities.MatrixSimilarity(model[corpus], num_features=100)\n",
      "document_lda = model[corpus[0]]\n",
      "sims = index[document_lda]\n",
      "sims = sorted(enumerate(sims), key=lambda item: -item[1])\n",
      "print sims[0:10]"
     ],
     "language": "python",
     "metadata": {},
     "outputs": [
      {
       "output_type": "stream",
       "stream": "stdout",
       "text": [
        "[(0, 1.0), (579, 0.84188688), (320, 0.80509669), (395, 0.78553939), (1672, 0.76449102), (1674, 0.76449043), (585, 0.7559126), (627, 0.7543751), (555, 0.753856), (513, 0.74884981)]\n"
       ]
      }
     ],
     "prompt_number": 78
    },
    {
     "cell_type": "markdown",
     "metadata": {},
     "source": [
      "\u0412\u043e\u0437\u044c\u043c\u0435\u043c \u043f\u0435\u0440\u0432\u044b\u0435 100 \u0441\u043b\u043e\u0432 \u0432 \u043a\u0430\u0436\u0434\u043e\u0439 \u0441\u0442\u0430\u0442\u044c\u0435 \u0438 \u043d\u0430\u0437\u043e\u0432\u0435\u043c \u0438\u0445 abstacts. \u0421\u0447\u0438\u0442\u0430\u0435\u043c, \u043f\u0440\u0435\u043e\u0431\u0440\u0430\u0437\u0443\u0435\u043c \u0432 \u0432\u0435\u043a\u0442\u043e\u0440\u043d\u044b\u0439 \u0432\u0438\u0434."
     ]
    },
    {
     "cell_type": "code",
     "collapsed": false,
     "input": [
      "abstracts = []\n",
      "for filename in os.listdir(\"C:\\AtHand\\NIPS_data\"):\n",
      "    with open(\"C:\\AtHand\\NIPS_data\\\\\" + filename) as f: \n",
      "        abstracts.append(preprocess(f.read().decode('cp1251'))[0:100])\n",
      "abstracts = [dictionary.doc2bow(abstract) for abstract in abstracts]"
     ],
     "language": "python",
     "metadata": {},
     "outputs": [],
     "prompt_number": 55
    },
    {
     "cell_type": "markdown",
     "metadata": {},
     "source": [
      "\u0417\u0430\u0434\u0430\u0434\u0438\u043c 10-\u044b\u0439 abstract \u0432 \u043a\u0430\u0447\u0435\u0441\u0442\u0432\u0435 \u0437\u0430\u043f\u0440\u043e\u0441\u0430 \u0438 \u043f\u0440\u043e\u0434\u0435\u043b\u0430\u0435\u043c \u0443\u0436\u0435 \u043f\u0440\u0438\u0432\u044b\u0447\u043d\u044b\u0439 \u043f\u043e\u0438\u0441\u043a \u043f\u043e \u0437\u0430\u043f\u0440\u043e\u0441\u0443. \u0414\u043e\u043a\u0443\u043c\u0435\u043d\u0442, \u0438\u0437 \u043a\u043e\u0442\u043e\u0440\u043e\u0433\u043e \u043e\u043d \u0432\u044b\u0440\u0435\u0437\u0430\u043d, \u043d\u0430 5 \u043c\u0435\u0441\u0442\u0435 \u0432 \u0432\u044b\u0434\u0430\u0447\u0435."
     ]
    },
    {
     "cell_type": "code",
     "collapsed": false,
     "input": [
      "abstract_lda = model[abstracts[10]]\n",
      "sims = index[abstract_lda]\n",
      "sims = sorted(enumerate(sims), key=lambda item: -item[1])\n",
      "print sims[0:10]"
     ],
     "language": "python",
     "metadata": {},
     "outputs": [
      {
       "output_type": "stream",
       "stream": "stdout",
       "text": [
        "[(114, 0.79083788), (401, 0.73150617), (155, 0.61779886), (9, 0.57267964), (10, 0.57267964), (116, 0.45213616), (889, 0.39740536), (780, 0.36753801), (135, 0.35828578), (1185, 0.31249622)]\n"
       ]
      }
     ],
     "prompt_number": 61
    },
    {
     "cell_type": "markdown",
     "metadata": {},
     "source": [
      "\u041e\u043f\u0440\u0435\u0434\u0435\u043b\u0438\u043c \u0444\u0443\u043d\u043a\u0446\u0438\u044e position, \u0432\u043e\u0437\u0432\u0440\u0430\u0449\u0430\u0443\u0449\u0443\u044e \u043f\u043e\u0437\u0438\u0446\u0438\u044e \u0434\u043e\u043a\u0443\u043c\u0435\u043d\u0442\u0430 \u0432 \u0432\u044b\u0434\u0430\u0447\u0435. \u0418 \u0444\u0443\u043d\u043a\u0446\u0438\u044e MAP, \u043f\u043e\u0434\u0441\u0447\u0438\u0442\u044b\u0432\u0430\u044e\u0449\u0443\u044e \u043a\u0430\u0447\u0435\u0441\u0442\u0432\u043e \u043f\u043e\u0438\u0441\u043a\u0430 mean average precision \u043f\u043e \u043e\u0431\u044a\u0435\u043a\u0442\u0443 index, \u0438\u043d\u0438\u0446\u0438\u0430\u043b\u0438\u0437\u0438\u0440\u043e\u0432\u0430\u043d\u043d\u043e\u043c\u0443 \u0442\u0435\u043c\u0430\u0442\u0438\u0447\u0435\u0441\u043a\u0438\u043c\u0438 \u043f\u0440\u043e\u0444\u0438\u043b\u044f\u043c\u0438 \u0434\u043e\u043a\u0443\u043c\u0435\u043d\u0442\u043e\u0432 \u0431\u0430\u0437\u044b, \u0438 \u0442\u0435\u043c\u0430\u0442\u0438\u0447\u0435\u0441\u043a\u0438\u043c \u043f\u0440\u043e\u0444\u0438\u043b\u044f\u043c \u0437\u0430\u043f\u0440\u043e\u0441\u043e\u0432."
     ]
    },
    {
     "cell_type": "code",
     "collapsed": false,
     "input": [
      "def position(sims, id):\n",
      "    for i, tuple in enumerate(sims):\n",
      "        if (sims[i][0] == id): \n",
      "            return i+1"
     ],
     "language": "python",
     "metadata": {},
     "outputs": [],
     "prompt_number": 71
    },
    {
     "cell_type": "code",
     "collapsed": false,
     "input": [
      "def MAP(index, queries_lda):\n",
      "    quality = 0\n",
      "    for q_id, q_lda in enumerate(queries_lda):\n",
      "        sims = index[q_lda]\n",
      "        sims = sorted(enumerate(sims), key=lambda item: -item[1])\n",
      "        quality += 1.0 / position(sims, q_id)\n",
      "    quality /= len(queries_lda)\n",
      "    return quality"
     ],
     "language": "python",
     "metadata": {},
     "outputs": [],
     "prompt_number": 66
    },
    {
     "cell_type": "markdown",
     "metadata": {},
     "source": [
      "\u041f\u0440\u0438 \u043f\u043e\u0438\u0441\u043a\u0435 \u0434\u043e\u043a\u0443\u043c\u0435\u043d\u0442\u043e\u0432 \u043f\u043e \u0441\u0430\u043c\u0438\u043c \u0434\u043e\u043a\u0443\u043c\u0435\u043d\u0442\u0430\u043c MAP \u0431\u043b\u0438\u0437\u043a\u043e \u043a 1."
     ]
    },
    {
     "cell_type": "code",
     "collapsed": false,
     "input": [
      "print MAP(index, model[corpus])"
     ],
     "language": "python",
     "metadata": {},
     "outputs": [
      {
       "output_type": "stream",
       "stream": "stdout",
       "text": [
        "0.955065827132\n"
       ]
      }
     ],
     "prompt_number": 74
    },
    {
     "cell_type": "markdown",
     "metadata": {},
     "source": [
      "\u041f\u0440\u0438 \u043f\u043e\u0438\u0441\u043a\u0435 \u043f\u043e \u0430\u0431\u0441\u0442\u0440\u0430\u043a\u0442\u0430\u043c MAP \u0441\u043e\u0441\u0442\u0430\u0432\u043b\u044f\u0435\u0442 \u043f\u0440\u0438\u043c\u0435\u0440\u043d\u043e 0.4."
     ]
    },
    {
     "cell_type": "code",
     "collapsed": false,
     "input": [
      "print MAP(index, model[[dictionary.doc2bow(abstract) for abstract in abstracts]])"
     ],
     "language": "python",
     "metadata": {},
     "outputs": [
      {
       "output_type": "stream",
       "stream": "stdout",
       "text": [
        "0.38909908155\n"
       ]
      }
     ],
     "prompt_number": 76
    },
    {
     "cell_type": "code",
     "collapsed": false,
     "input": [],
     "language": "python",
     "metadata": {},
     "outputs": []
    }
   ],
   "metadata": {}
  }
 ]
}